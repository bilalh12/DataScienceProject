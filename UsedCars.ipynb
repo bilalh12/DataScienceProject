{
  "nbformat": 4,
  "nbformat_minor": 0,
  "metadata": {
    "colab": {
      "name": "UsedCars.ipynb",
      "provenance": [],
      "collapsed_sections": []
    },
    "kernelspec": {
      "name": "python3",
      "display_name": "Python 3"
    },
    "language_info": {
      "name": "python"
    }
  },
  "cells": [
    {
      "cell_type": "code",
      "execution_count": 1,
      "metadata": {
        "id": "S8EV8b53CoFH"
      },
      "outputs": [],
      "source": [
        "from bs4 import BeautifulSoup as bs\n",
        "import requests\n",
        "import pandas as pd\n",
        "import numpy as np\n",
        "import matplotlib.pyplot as plt\n",
        "import seaborn as sns\n",
        "from sklearn.impute import SimpleImputer\n",
        "from sklearn.preprocessing import MinMaxScaler\n",
        "from sklearn.preprocessing  import LabelEncoder\n",
        "from sklearn.preprocessing import OneHotEncoder \n",
        "from sklearn.model_selection import train_test_split\n",
        "from sklearn.metrics import accuracy_score\n",
        "from sklearn.metrics import confusion_matrix\n",
        "from sklearn.metrics import classification_report"
      ]
    },
    {
      "cell_type": "code",
      "source": [
        "from google.colab import files\n",
        "uploaded = files.upload()"
      ],
      "metadata": {
        "colab": {
          "resources": {
            "http://localhost:8080/nbextensions/google.colab/files.js": {
              "data": "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",
              "ok": true,
              "headers": [
                [
                  "content-type",
                  "application/javascript"
                ]
              ],
              "status": 200,
              "status_text": ""
            }
          },
          "base_uri": "https://localhost:8080/",
          "height": 73
        },
        "id": "TjYXaQRLDmxr",
        "outputId": "b0c1dba5-83db-4532-aabd-8d0958cd0038"
      },
      "execution_count": 4,
      "outputs": [
        {
          "output_type": "display_data",
          "data": {
            "text/plain": [
              "<IPython.core.display.HTML object>"
            ],
            "text/html": [
              "\n",
              "     <input type=\"file\" id=\"files-3d855a27-4e79-4e32-ac30-2fac5efc64b8\" name=\"files[]\" multiple disabled\n",
              "        style=\"border:none\" />\n",
              "     <output id=\"result-3d855a27-4e79-4e32-ac30-2fac5efc64b8\">\n",
              "      Upload widget is only available when the cell has been executed in the\n",
              "      current browser session. Please rerun this cell to enable.\n",
              "      </output>\n",
              "      <script src=\"/nbextensions/google.colab/files.js\"></script> "
            ]
          },
          "metadata": {}
        },
        {
          "output_type": "stream",
          "name": "stdout",
          "text": [
            "Saving olx_car_data_csv.csv to olx_car_data_csv.csv\n"
          ]
        }
      ]
    },
    {
      "cell_type": "code",
      "source": [
        "import chardet\n",
        "with open('olx_car_data_csv.csv', 'rb') as rawdata:\n",
        "    result = chardet.detect(rawdata.read(100000000))\n",
        "result"
      ],
      "metadata": {
        "colab": {
          "base_uri": "https://localhost:8080/"
        },
        "id": "8XLOAJRED-9M",
        "outputId": "e04b7e1b-fae6-4231-e6af-908cc7ce8039"
      },
      "execution_count": 6,
      "outputs": [
        {
          "output_type": "execute_result",
          "data": {
            "text/plain": [
              "{'confidence': 0.73, 'encoding': 'ISO-8859-1', 'language': ''}"
            ]
          },
          "metadata": {},
          "execution_count": 6
        }
      ]
    },
    {
      "cell_type": "markdown",
      "source": [
        "**Create Dataset**"
      ],
      "metadata": {
        "id": "wfu_xLFbE3WK"
      }
    },
    {
      "cell_type": "code",
      "source": [
        "Dataset = pd.read_csv('olx_car_data_csv.csv',encoding='ISO-8859-1')"
      ],
      "metadata": {
        "id": "A9VjZPaeFKLz"
      },
      "execution_count": 33,
      "outputs": []
    },
    {
      "cell_type": "code",
      "source": [
        "# Display the Data\n",
        "Dataset.head(2)"
      ],
      "metadata": {
        "colab": {
          "base_uri": "https://localhost:8080/",
          "height": 112
        },
        "id": "1UZIUgMrFezw",
        "outputId": "860a4678-4796-44a3-a63e-22013914d354"
      },
      "execution_count": 34,
      "outputs": [
        {
          "output_type": "execute_result",
          "data": {
            "text/plain": [
              "    Brand Condition    Fuel  KMs Driven  Model    Price Registered City  \\\n",
              "0  Toyota      Used  Diesel         1.0  Prado  2100000         Karachi   \n",
              "1  Suzuki      Used  Petrol    100000.0  Bolan   380000         Karachi   \n",
              "\n",
              "  Transaction Type    Year  \n",
              "0             Cash  1997.0  \n",
              "1             Cash  2006.0  "
            ],
            "text/html": [
              "\n",
              "  <div id=\"df-bc7f1010-d70a-456d-9498-0b727b2506b2\">\n",
              "    <div class=\"colab-df-container\">\n",
              "      <div>\n",
              "<style scoped>\n",
              "    .dataframe tbody tr th:only-of-type {\n",
              "        vertical-align: middle;\n",
              "    }\n",
              "\n",
              "    .dataframe tbody tr th {\n",
              "        vertical-align: top;\n",
              "    }\n",
              "\n",
              "    .dataframe thead th {\n",
              "        text-align: right;\n",
              "    }\n",
              "</style>\n",
              "<table border=\"1\" class=\"dataframe\">\n",
              "  <thead>\n",
              "    <tr style=\"text-align: right;\">\n",
              "      <th></th>\n",
              "      <th>Brand</th>\n",
              "      <th>Condition</th>\n",
              "      <th>Fuel</th>\n",
              "      <th>KMs Driven</th>\n",
              "      <th>Model</th>\n",
              "      <th>Price</th>\n",
              "      <th>Registered City</th>\n",
              "      <th>Transaction Type</th>\n",
              "      <th>Year</th>\n",
              "    </tr>\n",
              "  </thead>\n",
              "  <tbody>\n",
              "    <tr>\n",
              "      <th>0</th>\n",
              "      <td>Toyota</td>\n",
              "      <td>Used</td>\n",
              "      <td>Diesel</td>\n",
              "      <td>1.0</td>\n",
              "      <td>Prado</td>\n",
              "      <td>2100000</td>\n",
              "      <td>Karachi</td>\n",
              "      <td>Cash</td>\n",
              "      <td>1997.0</td>\n",
              "    </tr>\n",
              "    <tr>\n",
              "      <th>1</th>\n",
              "      <td>Suzuki</td>\n",
              "      <td>Used</td>\n",
              "      <td>Petrol</td>\n",
              "      <td>100000.0</td>\n",
              "      <td>Bolan</td>\n",
              "      <td>380000</td>\n",
              "      <td>Karachi</td>\n",
              "      <td>Cash</td>\n",
              "      <td>2006.0</td>\n",
              "    </tr>\n",
              "  </tbody>\n",
              "</table>\n",
              "</div>\n",
              "      <button class=\"colab-df-convert\" onclick=\"convertToInteractive('df-bc7f1010-d70a-456d-9498-0b727b2506b2')\"\n",
              "              title=\"Convert this dataframe to an interactive table.\"\n",
              "              style=\"display:none;\">\n",
              "        \n",
              "  <svg xmlns=\"http://www.w3.org/2000/svg\" height=\"24px\"viewBox=\"0 0 24 24\"\n",
              "       width=\"24px\">\n",
              "    <path d=\"M0 0h24v24H0V0z\" fill=\"none\"/>\n",
              "    <path d=\"M18.56 5.44l.94 2.06.94-2.06 2.06-.94-2.06-.94-.94-2.06-.94 2.06-2.06.94zm-11 1L8.5 8.5l.94-2.06 2.06-.94-2.06-.94L8.5 2.5l-.94 2.06-2.06.94zm10 10l.94 2.06.94-2.06 2.06-.94-2.06-.94-.94-2.06-.94 2.06-2.06.94z\"/><path d=\"M17.41 7.96l-1.37-1.37c-.4-.4-.92-.59-1.43-.59-.52 0-1.04.2-1.43.59L10.3 9.45l-7.72 7.72c-.78.78-.78 2.05 0 2.83L4 21.41c.39.39.9.59 1.41.59.51 0 1.02-.2 1.41-.59l7.78-7.78 2.81-2.81c.8-.78.8-2.07 0-2.86zM5.41 20L4 18.59l7.72-7.72 1.47 1.35L5.41 20z\"/>\n",
              "  </svg>\n",
              "      </button>\n",
              "      \n",
              "  <style>\n",
              "    .colab-df-container {\n",
              "      display:flex;\n",
              "      flex-wrap:wrap;\n",
              "      gap: 12px;\n",
              "    }\n",
              "\n",
              "    .colab-df-convert {\n",
              "      background-color: #E8F0FE;\n",
              "      border: none;\n",
              "      border-radius: 50%;\n",
              "      cursor: pointer;\n",
              "      display: none;\n",
              "      fill: #1967D2;\n",
              "      height: 32px;\n",
              "      padding: 0 0 0 0;\n",
              "      width: 32px;\n",
              "    }\n",
              "\n",
              "    .colab-df-convert:hover {\n",
              "      background-color: #E2EBFA;\n",
              "      box-shadow: 0px 1px 2px rgba(60, 64, 67, 0.3), 0px 1px 3px 1px rgba(60, 64, 67, 0.15);\n",
              "      fill: #174EA6;\n",
              "    }\n",
              "\n",
              "    [theme=dark] .colab-df-convert {\n",
              "      background-color: #3B4455;\n",
              "      fill: #D2E3FC;\n",
              "    }\n",
              "\n",
              "    [theme=dark] .colab-df-convert:hover {\n",
              "      background-color: #434B5C;\n",
              "      box-shadow: 0px 1px 3px 1px rgba(0, 0, 0, 0.15);\n",
              "      filter: drop-shadow(0px 1px 2px rgba(0, 0, 0, 0.3));\n",
              "      fill: #FFFFFF;\n",
              "    }\n",
              "  </style>\n",
              "\n",
              "      <script>\n",
              "        const buttonEl =\n",
              "          document.querySelector('#df-bc7f1010-d70a-456d-9498-0b727b2506b2 button.colab-df-convert');\n",
              "        buttonEl.style.display =\n",
              "          google.colab.kernel.accessAllowed ? 'block' : 'none';\n",
              "\n",
              "        async function convertToInteractive(key) {\n",
              "          const element = document.querySelector('#df-bc7f1010-d70a-456d-9498-0b727b2506b2');\n",
              "          const dataTable =\n",
              "            await google.colab.kernel.invokeFunction('convertToInteractive',\n",
              "                                                     [key], {});\n",
              "          if (!dataTable) return;\n",
              "\n",
              "          const docLinkHtml = 'Like what you see? Visit the ' +\n",
              "            '<a target=\"_blank\" href=https://colab.research.google.com/notebooks/data_table.ipynb>data table notebook</a>'\n",
              "            + ' to learn more about interactive tables.';\n",
              "          element.innerHTML = '';\n",
              "          dataTable['output_type'] = 'display_data';\n",
              "          await google.colab.output.renderOutput(dataTable, element);\n",
              "          const docLink = document.createElement('div');\n",
              "          docLink.innerHTML = docLinkHtml;\n",
              "          element.appendChild(docLink);\n",
              "        }\n",
              "      </script>\n",
              "    </div>\n",
              "  </div>\n",
              "  "
            ]
          },
          "metadata": {},
          "execution_count": 34
        }
      ]
    },
    {
      "cell_type": "code",
      "source": [
        "# Dataset Shape\n",
        "print('The Shape of the Dataset is : {}'.format(Dataset.shape))"
      ],
      "metadata": {
        "colab": {
          "base_uri": "https://localhost:8080/"
        },
        "id": "2w2kZWjOICKK",
        "outputId": "0ac94b9a-52a0-48ff-870e-b7ca7b72f775"
      },
      "execution_count": 35,
      "outputs": [
        {
          "output_type": "stream",
          "name": "stdout",
          "text": [
            "The Shape of the Dataset is : (24973, 9)\n"
          ]
        }
      ]
    },
    {
      "cell_type": "code",
      "source": [
        "# Check Nan Values\n",
        "nan_value = Dataset.isnull().sum()\n",
        "print('The Nan Values in the Dataset is : \\n{}'.format(nan_value))"
      ],
      "metadata": {
        "colab": {
          "base_uri": "https://localhost:8080/"
        },
        "id": "V6Cn-VDvImqE",
        "outputId": "b12799fa-dfd8-44e3-a28c-294c985a1a15"
      },
      "execution_count": 36,
      "outputs": [
        {
          "output_type": "stream",
          "name": "stdout",
          "text": [
            "The Nan Values in the Dataset is : \n",
            "Brand               2137\n",
            "Condition           2136\n",
            "Fuel                2445\n",
            "KMs Driven          2286\n",
            "Model               2448\n",
            "Price                  0\n",
            "Registered City     4636\n",
            "Transaction Type    2445\n",
            "Year                2284\n",
            "dtype: int64\n"
          ]
        }
      ]
    },
    {
      "cell_type": "code",
      "source": [
        "# Display the Information\n",
        "Dataset.info()"
      ],
      "metadata": {
        "colab": {
          "base_uri": "https://localhost:8080/"
        },
        "id": "lBW1MkoPIucU",
        "outputId": "57f406b4-a3a8-46af-e884-a15eaa1a1e35"
      },
      "execution_count": 37,
      "outputs": [
        {
          "output_type": "stream",
          "name": "stdout",
          "text": [
            "<class 'pandas.core.frame.DataFrame'>\n",
            "RangeIndex: 24973 entries, 0 to 24972\n",
            "Data columns (total 9 columns):\n",
            " #   Column            Non-Null Count  Dtype  \n",
            "---  ------            --------------  -----  \n",
            " 0   Brand             22836 non-null  object \n",
            " 1   Condition         22837 non-null  object \n",
            " 2   Fuel              22528 non-null  object \n",
            " 3   KMs Driven        22687 non-null  float64\n",
            " 4   Model             22525 non-null  object \n",
            " 5   Price             24973 non-null  int64  \n",
            " 6   Registered City   20337 non-null  object \n",
            " 7   Transaction Type  22528 non-null  object \n",
            " 8   Year              22689 non-null  float64\n",
            "dtypes: float64(2), int64(1), object(6)\n",
            "memory usage: 1.7+ MB\n"
          ]
        }
      ]
    },
    {
      "cell_type": "code",
      "source": [
        "# Datatype of Each Column\n",
        "Dataset.dtypes"
      ],
      "metadata": {
        "colab": {
          "base_uri": "https://localhost:8080/"
        },
        "id": "ArlV0JS-JVHy",
        "outputId": "f3235884-ca69-4adc-f06b-c20606a82887"
      },
      "execution_count": 12,
      "outputs": [
        {
          "output_type": "execute_result",
          "data": {
            "text/plain": [
              "Brand                object\n",
              "Condition            object\n",
              "Fuel                 object\n",
              "KMs Driven          float64\n",
              "Model                object\n",
              "Price                 int64\n",
              "Registered City      object\n",
              "Transaction Type     object\n",
              "Year                float64\n",
              "dtype: object"
            ]
          },
          "metadata": {},
          "execution_count": 12
        }
      ]
    },
    {
      "cell_type": "code",
      "source": [
        "# Check the Unique Values\n",
        "# Denpendent Variable\n",
        "target = Dataset['Condition'].value_counts()\n",
        "print('Independent Variable Unique Data Count : \\n{}'.format(target))"
      ],
      "metadata": {
        "colab": {
          "base_uri": "https://localhost:8080/"
        },
        "id": "g4tAC6TNJfQh",
        "outputId": "985d5c18-73a9-480a-eff8-d7cd80108206"
      },
      "execution_count": 38,
      "outputs": [
        {
          "output_type": "stream",
          "name": "stdout",
          "text": [
            "Independent Variable Unique Data Count : \n",
            "Used    18472\n",
            "New      4365\n",
            "Name: Condition, dtype: int64\n"
          ]
        }
      ]
    },
    {
      "cell_type": "code",
      "source": [
        "# Define the Label\n",
        "Label = ['Brand' , 'Condition' , 'Fuel' , 'KMs Driven' , 'Model' , 'Price' , 'Registered City' , 'Transaction Type','Year']  "
      ],
      "metadata": {
        "id": "OhNLyeQ9K0kd"
      },
      "execution_count": 39,
      "outputs": []
    },
    {
      "cell_type": "code",
      "source": [
        "# Displat the Correlation Table\n",
        "correlation = Dataset.corr()\n",
        "# Display the Correlation Table by using HeatMap\n",
        "\n",
        "plt.figure(figsize = (8,6))\n",
        "sns.heatmap(correlation , cmap = 'GnBu' , annot = True)\n",
        "plt.show()"
      ],
      "metadata": {
        "id": "k-9xwhWxMdBD"
      },
      "execution_count": null,
      "outputs": []
    },
    {
      "cell_type": "markdown",
      "source": [
        "**Preprocessing Dataset**"
      ],
      "metadata": {
        "id": "ZzTrySUNMx_n"
      }
    },
    {
      "cell_type": "code",
      "source": [
        "# Convert Dataset into Dependent & Independent Matrix\n",
        "\n",
        "X = Dataset.iloc[:,[0,2,3,4,5,6,7,8]].values\n",
        "Y = Dataset.iloc[:,[1]].values\n",
        "print('The Shape of the X Matrix is : {}'.format(X.shape))\n",
        "print('The Shape of the Y Matrix is : {}'.format(Y.shape))"
      ],
      "metadata": {
        "colab": {
          "base_uri": "https://localhost:8080/"
        },
        "id": "1a8CjliXMmqz",
        "outputId": "099a5d51-b4d8-47e3-8c90-5e5d35e1f5e3"
      },
      "execution_count": 41,
      "outputs": [
        {
          "output_type": "stream",
          "name": "stdout",
          "text": [
            "The Shape of the X Matrix is : (24973, 8)\n",
            "The Shape of the Y Matrix is : (24973, 1)\n"
          ]
        }
      ]
    },
    {
      "cell_type": "code",
      "source": [
        "# Handle the Nan Values\n",
        "\n",
        "# Categorical Data\n",
        "imputer = SimpleImputer(missing_values = np.nan , strategy = 'most_frequent')\n",
        "X[:,[0,1,3,5,6]] = imputer.fit_transform(X[:,[0,1,3,5,6]])"
      ],
      "metadata": {
        "id": "58oZHihRNGxr"
      },
      "execution_count": 42,
      "outputs": []
    },
    {
      "cell_type": "code",
      "source": [
        "# Handle the Nan Values\n",
        "\n",
        "# Numerical Data \n",
        "imputer_2 = SimpleImputer(missing_values = np.nan , strategy = 'mean')\n",
        "X[:,[2,7]] = imputer_2.fit_transform(X[:,[2,7]])"
      ],
      "metadata": {
        "id": "wR-wsPU42jIm"
      },
      "execution_count": 43,
      "outputs": []
    },
    {
      "cell_type": "code",
      "source": [
        "# Normalize the Columns\n",
        "normalize = MinMaxScaler()\n",
        "X[:,[2,4,7]] = normalize.fit_transform(X[:,[2,4,7]])"
      ],
      "metadata": {
        "id": "816QwMBONNK9"
      },
      "execution_count": 44,
      "outputs": []
    },
    {
      "cell_type": "code",
      "source": [
        "# Handle Categorical Data  \n",
        "\n",
        "# Apply the Label Encoder\n",
        "label_encoder = LabelEncoder()   "
      ],
      "metadata": {
        "id": "F-mp7hwoNR0v"
      },
      "execution_count": 45,
      "outputs": []
    },
    {
      "cell_type": "code",
      "source": [
        "# Target Matrix\n",
        "Y = label_encoder.fit_transform(Y)   "
      ],
      "metadata": {
        "id": "7mV6ilNIN-E5",
        "colab": {
          "base_uri": "https://localhost:8080/"
        },
        "outputId": "35ba1057-294b-4989-baff-7f64e5b02767"
      },
      "execution_count": 46,
      "outputs": [
        {
          "output_type": "stream",
          "name": "stderr",
          "text": [
            "/usr/local/lib/python3.7/dist-packages/sklearn/preprocessing/_label.py:115: DataConversionWarning: A column-vector y was passed when a 1d array was expected. Please change the shape of y to (n_samples, ), for example using ravel().\n",
            "  y = column_or_1d(y, warn=True)\n"
          ]
        }
      ]
    },
    {
      "cell_type": "code",
      "source": [
        " # Apply the OneHotEncoder\n",
        "one_hot_encoder = OneHotEncoder()  \n",
        "dummy_1 = one_hot_encoder.fit_transform(X[:,[0,1,3,5,6]]).toarray()\n",
        "\n",
        "# Marge the All Data in X Matrix\n",
        "\n",
        "X = np.hstack((dummy_1 , X[:,[2,4,7]]))\n",
        "\n",
        "# Display the Shape of x after apply the OneHotEncoder \n",
        "print('The Shape of x is : {}'.format(X.shape))\n",
        "\n",
        "X = X[:,0:15]"
      ],
      "metadata": {
        "colab": {
          "base_uri": "https://localhost:8080/"
        },
        "id": "pdM8Jrr9OHeA",
        "outputId": "71c148b8-1377-4392-be1e-f4ed39325735"
      },
      "execution_count": 47,
      "outputs": [
        {
          "output_type": "stream",
          "name": "stdout",
          "text": [
            "The Shape of x is : (24973, 397)\n"
          ]
        }
      ]
    },
    {
      "cell_type": "code",
      "source": [
        "# Split the Dataset into (Train & Test)\n",
        "\n",
        "x_train , x_test , y_train , y_test = train_test_split( X, Y , test_size = 0.2)\n",
        "\n",
        "# Display the Shape of the Train & Test \n",
        "print('The Shape of X Train is : {}'.format(x_train.shape))\n",
        "print('The Shape of X Test  is : {}'.format(x_test.shape))\n",
        "print('The Shape of Y Train is : {}'.format(y_train.shape))\n",
        "print('The Shape of Y Test  is : {}'.format(y_test.shape))"
      ],
      "metadata": {
        "colab": {
          "base_uri": "https://localhost:8080/"
        },
        "id": "Ry8YSOIeOTWQ",
        "outputId": "149477e5-71ed-4120-fabc-4616f08ab6a1"
      },
      "execution_count": 68,
      "outputs": [
        {
          "output_type": "stream",
          "name": "stdout",
          "text": [
            "The Shape of X Train is : (19978, 15)\n",
            "The Shape of X Test  is : (4995, 15)\n",
            "The Shape of Y Train is : (19978,)\n",
            "The Shape of Y Test  is : (4995,)\n"
          ]
        }
      ]
    },
    {
      "cell_type": "markdown",
      "source": [
        "**Visualization**\n"
      ],
      "metadata": {
        "id": "basnAuHdPUvo"
      }
    },
    {
      "cell_type": "code",
      "source": [
        "sns.kdeplot(x = Dataset['Price'] , shade = True , linewidth = 5 , alpha = 0.5 , edgecolor = 'black')\n",
        "plt.title('Price' , fontsize = 20)\n",
        "plt.show()"
      ],
      "metadata": {
        "id": "LLioh3V8OZ3s"
      },
      "execution_count": null,
      "outputs": []
    },
    {
      "cell_type": "code",
      "source": [
        "sns.kdeplot(x = Dataset['Year'] , shade = True , linewidth = 5 , alpha = 0.5 , edgecolor = 'black')\n",
        "plt.title('Year' , fontsize = 20)\n",
        "plt.show()"
      ],
      "metadata": {
        "id": "ljVWgNA9Odjf"
      },
      "execution_count": null,
      "outputs": []
    },
    {
      "cell_type": "code",
      "source": [
        "sns.kdeplot(x = Dataset['KMs Driven']  , linewidth = 5 , alpha = 0.5 , color = 'red') \n",
        "plt.title('KMs Driven' , fontsize = 20)\n",
        "plt.show()"
      ],
      "metadata": {
        "id": "l-FcdMOkPeYh"
      },
      "execution_count": null,
      "outputs": []
    },
    {
      "cell_type": "code",
      "source": [
        " sns.stripplot(x = Dataset['Condition'] , y = Dataset['Price'] , palette = 'hot')\n",
        " plt.title('Condition & Price' , fontsize = 20)\n",
        " plt.show()"
      ],
      "metadata": {
        "colab": {
          "base_uri": "https://localhost:8080/",
          "height": 300
        },
        "id": "NZSZ2mkCPz4C",
        "outputId": "db4a6e04-027a-4969-da6f-321503ec3ebc"
      },
      "execution_count": 54,
      "outputs": [
        {
          "output_type": "display_data",
          "data": {
            "text/plain": [
              "<Figure size 432x288 with 1 Axes>"
            ],
            "image/png": "[encoded data removed]"
          },
          "metadata": {
            "needs_background": "light"
          }
        }
      ]
    },
    {
      "cell_type": "markdown",
      "source": [
        "**Machine Learning Model**"
      ],
      "metadata": {
        "id": "Lvk7LdR6Tl8I"
      }
    },
    {
      "cell_type": "markdown",
      "source": [
        "Logistic Regression Classifier"
      ],
      "metadata": {
        "id": "PLCXnsJyTsDp"
      }
    },
    {
      "cell_type": "code",
      "source": [
        "from sklearn.linear_model import LogisticRegression\n",
        "\n",
        "LR = LogisticRegression()\n",
        "\n",
        "# Fit the Model \n",
        "LR.fit(x_train , y_train)\n",
        "\n",
        "# Predict the Result \n",
        "prediction_lr = LR.predict(x_test)"
      ],
      "metadata": {
        "id": "57RW_5vxT8CW"
      },
      "execution_count": 76,
      "outputs": []
    },
    {
      "cell_type": "code",
      "source": [
        "# Actual Result of logistic Regression\n",
        "Actual_res_lr = [] \n",
        "\n",
        "for x in prediction_lr:\n",
        "  Actual_res_lr.append(Label[x])"
      ],
      "metadata": {
        "id": "60XBtPwv51eZ"
      },
      "execution_count": 78,
      "outputs": []
    },
    {
      "cell_type": "code",
      "source": [
        "# Accuracy of the Logistic Regression\n",
        "accuracy_score_lr = accuracy_score(prediction_lr , y_test)\n",
        "print(accuracy_score_lr)"
      ],
      "metadata": {
        "colab": {
          "base_uri": "https://localhost:8080/"
        },
        "id": "J8wvAqyu6NWZ",
        "outputId": "cf75ae0a-3c4d-40ea-8a24-be8fec5caeae"
      },
      "execution_count": 79,
      "outputs": [
        {
          "output_type": "stream",
          "name": "stdout",
          "text": [
            "0.7427427427427428\n"
          ]
        }
      ]
    },
    {
      "cell_type": "code",
      "source": [
        "# Confusion Matrix of Logistic Regression\n",
        "confusion_lr = confusion_matrix(y_test , prediction_lr)\n",
        "\n",
        "# Display Confusion Matrix by using Heatmap\n",
        "sns.heatmap(confusion_lr , cmap = 'crest' , annot = True)\n",
        "plt.title('Confusion Matrix Logistic Regression ' , fontsize = 12)\n",
        "plt.show()"
      ],
      "metadata": {
        "colab": {
          "base_uri": "https://localhost:8080/",
          "height": 281
        },
        "id": "YM_0gL1b6R6Z",
        "outputId": "0b60a68c-cefc-4f66-e569-264b3f59ed82"
      },
      "execution_count": 80,
      "outputs": [
        {
          "output_type": "display_data",
          "data": {
            "text/plain": [
              "<Figure size 432x288 with 2 Axes>"
            ],
            "image/png": "[encoded data removed]"
          },
          "metadata": {
            "needs_background": "light"
          }
        }
      ]
    },
    {
      "cell_type": "code",
      "source": [
        "# Classification Report of Logistic Regression\n",
        "report_lr = classification_report(y_test , prediction_lr)\n",
        "print(report_lr)"
      ],
      "metadata": {
        "colab": {
          "base_uri": "https://localhost:8080/"
        },
        "id": "j21_Qc906c75",
        "outputId": "b55b6cd0-a5d7-40d6-9bbb-37af0b5775db"
      },
      "execution_count": 81,
      "outputs": [
        {
          "output_type": "stream",
          "name": "stdout",
          "text": [
            "              precision    recall  f1-score   support\n",
            "\n",
            "           0       0.00      0.00      0.00       860\n",
            "           1       0.74      1.00      0.85      3710\n",
            "           2       0.00      0.00      0.00       425\n",
            "\n",
            "    accuracy                           0.74      4995\n",
            "   macro avg       0.25      0.33      0.28      4995\n",
            "weighted avg       0.55      0.74      0.63      4995\n",
            "\n"
          ]
        },
        {
          "output_type": "stream",
          "name": "stderr",
          "text": [
            "/usr/local/lib/python3.7/dist-packages/sklearn/metrics/_classification.py:1318: UndefinedMetricWarning: Precision and F-score are ill-defined and being set to 0.0 in labels with no predicted samples. Use `zero_division` parameter to control this behavior.\n",
            "  _warn_prf(average, modifier, msg_start, len(result))\n",
            "/usr/local/lib/python3.7/dist-packages/sklearn/metrics/_classification.py:1318: UndefinedMetricWarning: Precision and F-score are ill-defined and being set to 0.0 in labels with no predicted samples. Use `zero_division` parameter to control this behavior.\n",
            "  _warn_prf(average, modifier, msg_start, len(result))\n",
            "/usr/local/lib/python3.7/dist-packages/sklearn/metrics/_classification.py:1318: UndefinedMetricWarning: Precision and F-score are ill-defined and being set to 0.0 in labels with no predicted samples. Use `zero_division` parameter to control this behavior.\n",
            "  _warn_prf(average, modifier, msg_start, len(result))\n"
          ]
        }
      ]
    },
    {
      "cell_type": "markdown",
      "source": [
        "**KNN Classifier**"
      ],
      "metadata": {
        "id": "HigBngLk-n4G"
      }
    },
    {
      "cell_type": "code",
      "source": [
        "from sklearn.neighbors import KNeighborsClassifier\n",
        "\n",
        "KNN_Classifier = KNeighborsClassifier(n_neighbors = 9)\n",
        "# Fit the model \n",
        "KNN_Classifier.fit(x_train , y_train)\n",
        "# Predict the Result \n",
        "prediction_knn = KNN_Classifier.predict(x_test)"
      ],
      "metadata": {
        "id": "oLq7OoOdVQIl"
      },
      "execution_count": 83,
      "outputs": []
    },
    {
      "cell_type": "code",
      "source": [
        "# Actual Result of KNN Classifier \n",
        "Actual_res_knn = [] \n",
        "\n",
        "for x in prediction_knn:\n",
        "  Actual_res_knn.append(Label[x])\n",
        "print(Actual_res_knn)"
      ],
      "metadata": {
        "colab": {
          "base_uri": "https://localhost:8080/"
        },
        "id": "ty7vjmc46iIJ",
        "outputId": "22ca029c-898f-4ccc-9af1-b963bd726b81"
      },
      "execution_count": 85,
      "outputs": [
        {
          "output_type": "stream",
          "name": "stdout",
          "text": [
            "['Brand', 'Brand', 'Brand', 'Condition', 'Brand', 'Condition', 'Brand', 'Brand', 'Brand', 'Condition', 'Brand', 'Condition', 'Condition', 'Brand', 'Condition', 'Brand', 'Brand', 'Brand', 'Brand', 'Condition', 'Brand', 'Brand', 'Condition', 'Brand', 'Condition', 'Brand', 'Brand', 'Brand', 'Condition', 'Brand', 'Brand', 'Brand', 'Brand', 'Brand', 'Brand', 'Brand', 'Brand', 'Brand', 'Condition', 'Condition', 'Condition', 'Brand', 'Brand', 'Condition', 'Brand', 'Brand', 'Brand', 'Brand', 'Condition', 'Brand', 'Brand', 'Brand', 'Brand', 'Condition', 'Brand', 'Condition', 'Brand', 'Brand', 'Brand', 'Brand', 'Brand', 'Condition', 'Condition', 'Brand', 'Brand', 'Brand', 'Brand', 'Brand', 'Brand', 'Condition', 'Brand', 'Brand', 'Brand', 'Condition', 'Brand', 'Brand', 'Condition', 'Brand', 'Condition', 'Condition', 'Condition', 'Condition', 'Brand', 'Condition', 'Brand', 'Brand', 'Brand', 'Brand', 'Brand', 'Brand', 'Condition', 'Brand', 'Brand', 'Brand', 'Brand', 'Condition', 'Brand', 'Brand', 'Brand', 'Brand', 'Condition', 'Brand', 'Brand', 'Condition', 'Brand', 'Brand', 'Brand', 'Brand', 'Brand', 'Condition', 'Brand', 'Condition', 'Brand', 'Brand', 'Brand', 'Brand', 'Brand', 'Condition', 'Condition', 'Brand', 'Brand', 'Brand', 'Brand', 'Brand', 'Brand', 'Brand', 'Brand', 'Brand', 'Brand', 'Condition', 'Brand', 'Brand', 'Brand', 'Condition', 'Condition', 'Brand', 'Brand', 'Brand', 'Brand', 'Brand', 'Brand', 'Brand', 'Condition', 'Brand', 'Condition', 'Condition', 'Brand', 'Brand', 'Brand', 'Brand', 'Condition', 'Condition', 'Brand', 'Brand', 'Brand', 'Brand', 'Condition', 'Condition', 'Brand', 'Condition', 'Brand', 'Brand', 'Condition', 'Condition', 'Brand', 'Brand', 'Condition', 'Condition', 'Brand', 'Brand', 'Brand', 'Brand', 'Brand', 'Brand', 'Condition', 'Brand', 'Brand', 'Brand', 'Brand', 'Condition', 'Brand', 'Brand', 'Brand', 'Condition', 'Brand', 'Brand', 'Condition', 'Condition', 'Brand', 'Brand', 'Condition', 'Brand', 'Brand', 'Brand', 'Condition', 'Brand', 'Condition', 'Condition', 'Brand', 'Condition', 'Condition', 'Condition', 'Brand', 'Brand', 'Brand', 'Brand', 'Condition', 'Brand', 'Brand', 'Brand', 'Brand', 'Brand', 'Condition', 'Condition', 'Brand', 'Condition', 'Brand', 'Brand', 'Brand', 'Condition', 'Brand', 'Brand', 'Brand', 'Brand', 'Brand', 'Brand', 'Brand', 'Brand', 'Brand', 'Condition', 'Brand', 'Brand', 'Brand', 'Brand', 'Brand', 'Brand', 'Condition', 'Brand', 'Brand', 'Brand', 'Brand', 'Brand', 'Brand', 'Condition', 'Brand', 'Condition', 'Brand', 'Brand', 'Brand', 'Brand', 'Brand', 'Brand', 'Condition', 'Condition', 'Brand', 'Condition', 'Brand', 'Condition', 'Brand', 'Brand', 'Brand', 'Brand', 'Condition', 'Brand', 'Condition', 'Brand', 'Brand', 'Brand', 'Brand', 'Condition', 'Brand', 'Brand', 'Brand', 'Brand', 'Brand', 'Condition', 'Brand', 'Condition', 'Brand', 'Brand', 'Brand', 'Condition', 'Brand', 'Brand', 'Brand', 'Brand', 'Brand', 'Condition', 'Condition', 'Brand', 'Brand', 'Brand', 'Brand', 'Condition', 'Brand', 'Brand', 'Brand', 'Condition', 'Condition', 'Brand', 'Brand', 'Brand', 'Brand', 'Condition', 'Brand', 'Brand', 'Condition', 'Brand', 'Condition', 'Condition', 'Brand', 'Brand', 'Condition', 'Brand', 'Brand', 'Brand', 'Condition', 'Brand', 'Brand', 'Condition', 'Brand', 'Brand', 'Condition', 'Brand', 'Condition', 'Brand', 'Brand', 'Brand', 'Condition', 'Condition', 'Brand', 'Condition', 'Brand', 'Brand', 'Condition', 'Condition', 'Brand', 'Brand', 'Brand', 'Brand', 'Brand', 'Brand', 'Condition', 'Brand', 'Brand', 'Condition', 'Brand', 'Condition', 'Brand', 'Brand', 'Condition', 'Brand', 'Brand', 'Brand', 'Condition', 'Brand', 'Brand', 'Brand', 'Condition', 'Brand', 'Brand', 'Condition', 'Brand', 'Brand', 'Brand', 'Brand', 'Condition', 'Brand', 'Brand', 'Condition', 'Brand', 'Brand', 'Brand', 'Brand', 'Brand', 'Condition', 'Condition', 'Brand', 'Brand', 'Brand', 'Brand', 'Brand', 'Brand', 'Brand', 'Brand', 'Brand', 'Brand', 'Brand', 'Brand', 'Condition', 'Brand', 'Brand', 'Condition', 'Brand', 'Brand', 'Brand', 'Brand', 'Brand', 'Condition', 'Brand', 'Brand', 'Condition', 'Brand', 'Brand', 'Brand', 'Condition', 'Brand', 'Condition', 'Brand', 'Brand', 'Brand', 'Condition', 'Condition', 'Brand', 'Condition', 'Condition', 'Brand', 'Condition', 'Brand', 'Condition', 'Brand', 'Brand', 'Brand', 'Condition', 'Brand', 'Brand', 'Brand', 'Brand', 'Brand', 'Brand', 'Condition', 'Condition', 'Brand', 'Brand', 'Brand', 'Brand', 'Brand', 'Brand', 'Brand', 'Condition', 'Brand', 'Brand', 'Brand', 'Condition', 'Condition', 'Brand', 'Brand', 'Brand', 'Brand', 'Condition', 'Condition', 'Brand', 'Brand', 'Brand', 'Brand', 'Condition', 'Brand', 'Condition', 'Condition', 'Brand', 'Brand', 'Brand', 'Condition', 'Condition', 'Brand', 'Brand', 'Brand', 'Brand', 'Brand', 'Condition', 'Brand', 'Condition', 'Brand', 'Brand', 'Condition', 'Brand', 'Brand', 'Brand', 'Brand', 'Brand', 'Condition', 'Brand', 'Brand', 'Condition', 'Brand', 'Brand', 'Condition', 'Condition', 'Brand', 'Condition', 'Brand', 'Brand', 'Brand', 'Brand', 'Brand', 'Brand', 'Brand', 'Brand', 'Brand', 'Condition', 'Brand', 'Brand', 'Condition', 'Brand', 'Brand', 'Condition', 'Brand', 'Condition', 'Brand', 'Brand', 'Brand', 'Brand', 'Brand', 'Condition', 'Brand', 'Brand', 'Brand', 'Brand', 'Condition', 'Brand', 'Condition', 'Brand', 'Brand', 'Condition', 'Brand', 'Brand', 'Brand', 'Brand', 'Brand', 'Condition', 'Brand', 'Brand', 'Condition', 'Brand', 'Brand', 'Condition', 'Condition', 'Brand', 'Brand', 'Brand', 'Condition', 'Brand', 'Brand', 'Brand', 'Brand', 'Brand', 'Brand', 'Brand', 'Brand', 'Brand', 'Brand', 'Brand', 'Condition', 'Brand', 'Condition', 'Brand', 'Brand', 'Brand', 'Brand', 'Condition', 'Brand', 'Brand', 'Brand', 'Condition', 'Brand', 'Brand', 'Condition', 'Brand', 'Brand', 'Brand', 'Brand', 'Brand', 'Condition', 'Condition', 'Condition', 'Brand', 'Brand', 'Brand', 'Condition', 'Condition', 'Brand', 'Brand', 'Brand', 'Brand', 'Brand', 'Brand', 'Brand', 'Condition', 'Brand', 'Brand', 'Condition', 'Condition', 'Condition', 'Condition', 'Brand', 'Brand', 'Brand', 'Brand', 'Brand', 'Brand', 'Condition', 'Condition', 'Brand', 'Brand', 'Brand', 'Condition', 'Brand', 'Brand', 'Brand', 'Brand', 'Condition', 'Brand', 'Brand', 'Brand', 'Brand', 'Brand', 'Brand', 'Condition', 'Brand', 'Brand', 'Condition', 'Brand', 'Brand', 'Brand', 'Condition', 'Brand', 'Brand', 'Brand', 'Condition', 'Brand', 'Condition', 'Brand', 'Brand', 'Brand', 'Brand', 'Brand', 'Brand', 'Brand', 'Brand', 'Brand', 'Brand', 'Brand', 'Condition', 'Brand', 'Brand', 'Brand', 'Brand', 'Brand', 'Brand', 'Brand', 'Brand', 'Brand', 'Brand', 'Brand', 'Brand', 'Condition', 'Condition', 'Brand', 'Condition', 'Condition', 'Brand', 'Brand', 'Brand', 'Brand', 'Condition', 'Brand', 'Condition', 'Brand', 'Brand', 'Condition', 'Brand', 'Condition', 'Condition', 'Brand', 'Condition', 'Brand', 'Brand', 'Brand', 'Condition', 'Condition', 'Brand', 'Brand', 'Brand', 'Brand', 'Brand', 'Brand', 'Condition', 'Brand', 'Condition', 'Brand', 'Brand', 'Condition', 'Brand', 'Brand', 'Condition', 'Condition', 'Brand', 'Brand', 'Brand', 'Condition', 'Brand', 'Brand', 'Brand', 'Brand', 'Condition', 'Brand', 'Condition', 'Condition', 'Brand', 'Brand', 'Brand', 'Condition', 'Brand', 'Brand', 'Condition', 'Brand', 'Condition', 'Brand', 'Condition', 'Brand', 'Condition', 'Brand', 'Brand', 'Brand', 'Condition', 'Brand', 'Brand', 'Brand', 'Brand', 'Brand', 'Brand', 'Brand', 'Brand', 'Brand', 'Condition', 'Condition', 'Brand', 'Brand', 'Condition', 'Brand', 'Brand', 'Brand', 'Brand', 'Brand', 'Brand', 'Brand', 'Brand', 'Brand', 'Brand', 'Condition', 'Brand', 'Brand', 'Brand', 'Brand', 'Brand', 'Condition', 'Brand', 'Brand', 'Brand', 'Brand', 'Brand', 'Brand', 'Condition', 'Brand', 'Brand', 'Brand', 'Brand', 'Brand', 'Brand', 'Brand', 'Condition', 'Condition', 'Condition', 'Condition', 'Condition', 'Brand', 'Condition', 'Brand', 'Condition', 'Brand', 'Condition', 'Brand', 'Brand', 'Condition', 'Brand', 'Condition', 'Brand', 'Condition', 'Condition', 'Brand', 'Brand', 'Brand', 'Brand', 'Brand', 'Brand', 'Condition', 'Brand', 'Brand', 'Brand', 'Brand', 'Brand', 'Brand', 'Condition', 'Condition', 'Brand', 'Brand', 'Brand', 'Brand', 'Brand', 'Brand', 'Brand', 'Brand', 'Brand', 'Brand', 'Brand', 'Condition', 'Brand', 'Brand', 'Brand', 'Brand', 'Condition', 'Brand', 'Brand', 'Brand', 'Brand', 'Brand', 'Brand', 'Brand', 'Brand', 'Brand', 'Condition', 'Brand', 'Brand', 'Brand', 'Brand', 'Brand', 'Brand', 'Brand', 'Condition', 'Condition', 'Brand', 'Brand', 'Brand', 'Condition', 'Brand', 'Brand', 'Condition', 'Brand', 'Condition', 'Brand', 'Brand', 'Condition', 'Brand', 'Brand', 'Brand', 'Brand', 'Brand', 'Brand', 'Brand', 'Condition', 'Brand', 'Condition', 'Brand', 'Brand', 'Condition', 'Brand', 'Brand', 'Brand', 'Brand', 'Brand', 'Brand', 'Brand', 'Brand', 'Condition', 'Brand', 'Brand', 'Condition', 'Condition', 'Brand', 'Brand', 'Brand', 'Brand', 'Condition', 'Condition', 'Brand', 'Brand', 'Condition', 'Condition', 'Brand', 'Brand', 'Brand', 'Brand', 'Condition', 'Brand', 'Brand', 'Brand', 'Condition', 'Brand', 'Brand', 'Brand', 'Condition', 'Brand', 'Brand', 'Brand', 'Brand', 'Brand', 'Condition', 'Brand', 'Condition', 'Brand', 'Condition', 'Brand', 'Brand', 'Brand', 'Condition', 'Brand', 'Condition', 'Condition', 'Brand', 'Brand', 'Brand', 'Brand', 'Condition', 'Condition', 'Brand', 'Brand', 'Brand', 'Brand', 'Brand', 'Brand', 'Brand', 'Condition', 'Brand', 'Brand', 'Brand', 'Brand', 'Brand', 'Brand', 'Brand', 'Brand', 'Condition', 'Brand', 'Brand', 'Brand', 'Brand', 'Brand', 'Brand', 'Brand', 'Brand', 'Condition', 'Brand', 'Condition', 'Brand', 'Brand', 'Brand', 'Brand', 'Condition', 'Brand', 'Brand', 'Condition', 'Brand', 'Brand', 'Brand', 'Brand', 'Brand', 'Brand', 'Condition', 'Condition', 'Brand', 'Brand', 'Brand', 'Brand', 'Brand', 'Brand', 'Brand', 'Brand', 'Brand', 'Brand', 'Brand', 'Brand', 'Condition', 'Condition', 'Brand', 'Brand', 'Brand', 'Brand', 'Brand', 'Brand', 'Brand', 'Condition', 'Brand', 'Brand', 'Brand', 'Condition', 'Brand', 'Brand', 'Condition', 'Brand', 'Brand', 'Brand', 'Brand', 'Brand', 'Brand', 'Brand', 'Brand', 'Brand', 'Brand', 'Brand', 'Condition', 'Condition', 'Brand', 'Brand', 'Condition', 'Brand', 'Brand', 'Condition', 'Condition', 'Brand', 'Brand', 'Condition', 'Brand', 'Brand', 'Brand', 'Brand', 'Brand', 'Brand', 'Condition', 'Brand', 'Condition', 'Brand', 'Brand', 'Brand', 'Brand', 'Brand', 'Brand', 'Condition', 'Brand', 'Condition', 'Brand', 'Brand', 'Condition', 'Condition', 'Condition', 'Condition', 'Brand', 'Brand', 'Condition', 'Condition', 'Brand', 'Condition', 'Brand', 'Brand', 'Brand', 'Brand', 'Brand', 'Brand', 'Brand', 'Brand', 'Brand', 'Brand', 'Brand', 'Condition', 'Brand', 'Brand', 'Brand', 'Brand', 'Condition', 'Condition', 'Condition', 'Brand', 'Brand', 'Brand', 'Brand', 'Brand', 'Brand', 'Condition', 'Brand', 'Condition', 'Brand', 'Condition', 'Brand', 'Brand', 'Brand', 'Brand', 'Condition', 'Brand', 'Condition', 'Brand', 'Condition', 'Condition', 'Condition', 'Brand', 'Brand', 'Condition', 'Brand', 'Condition', 'Condition', 'Brand', 'Condition', 'Brand', 'Brand', 'Brand', 'Brand', 'Brand', 'Brand', 'Condition', 'Brand', 'Brand', 'Condition', 'Condition', 'Brand', 'Brand', 'Brand', 'Brand', 'Condition', 'Condition', 'Brand', 'Brand', 'Brand', 'Brand', 'Brand', 'Brand', 'Brand', 'Brand', 'Brand', 'Brand', 'Brand', 'Brand', 'Brand', 'Condition', 'Brand', 'Brand', 'Brand', 'Brand', 'Brand', 'Brand', 'Brand', 'Condition', 'Condition', 'Brand', 'Condition', 'Condition', 'Brand', 'Condition', 'Brand', 'Brand', 'Condition', 'Condition', 'Brand', 'Brand', 'Condition', 'Condition', 'Condition', 'Brand', 'Brand', 'Condition', 'Brand', 'Brand', 'Brand', 'Brand', 'Brand', 'Condition', 'Condition', 'Brand', 'Brand', 'Brand', 'Condition', 'Brand', 'Condition', 'Brand', 'Brand', 'Brand', 'Brand', 'Brand', 'Condition', 'Brand', 'Brand', 'Condition', 'Brand', 'Condition', 'Condition', 'Condition', 'Brand', 'Brand', 'Condition', 'Brand', 'Brand', 'Brand', 'Condition', 'Brand', 'Condition', 'Condition', 'Condition', 'Brand', 'Brand', 'Brand', 'Brand', 'Brand', 'Brand', 'Condition', 'Brand', 'Brand', 'Brand', 'Condition', 'Brand', 'Condition', 'Brand', 'Brand', 'Brand', 'Condition', 'Brand', 'Brand', 'Condition', 'Condition', 'Condition', 'Brand', 'Brand', 'Condition', 'Brand', 'Condition', 'Condition', 'Condition', 'Brand', 'Brand', 'Condition', 'Brand', 'Brand', 'Condition', 'Brand', 'Brand', 'Brand', 'Brand', 'Brand', 'Brand', 'Brand', 'Brand', 'Brand', 'Brand', 'Brand', 'Brand', 'Brand', 'Brand', 'Brand', 'Brand', 'Condition', 'Brand', 'Condition', 'Brand', 'Condition', 'Condition', 'Brand', 'Brand', 'Brand', 'Brand', 'Brand', 'Brand', 'Brand', 'Brand', 'Condition', 'Condition', 'Condition', 'Brand', 'Brand', 'Condition', 'Brand', 'Brand', 'Condition', 'Brand', 'Brand', 'Condition', 'Condition', 'Condition', 'Brand', 'Brand', 'Brand', 'Brand', 'Brand', 'Brand', 'Condition', 'Brand', 'Brand', 'Brand', 'Condition', 'Brand', 'Brand', 'Brand', 'Brand', 'Brand', 'Brand', 'Brand', 'Condition', 'Brand', 'Condition', 'Brand', 'Brand', 'Brand', 'Brand', 'Brand', 'Brand', 'Brand', 'Brand', 'Brand', 'Brand', 'Brand', 'Brand', 'Brand', 'Brand', 'Brand', 'Brand', 'Condition', 'Condition', 'Brand', 'Brand', 'Brand', 'Condition', 'Brand', 'Brand', 'Brand', 'Condition', 'Brand', 'Brand', 'Condition', 'Condition', 'Brand', 'Condition', 'Condition', 'Brand', 'Condition', 'Brand', 'Condition', 'Condition', 'Condition', 'Condition', 'Brand', 'Brand', 'Brand', 'Condition', 'Brand', 'Brand', 'Brand', 'Brand', 'Brand', 'Brand', 'Condition', 'Brand', 'Condition', 'Brand', 'Brand', 'Brand', 'Brand', 'Condition', 'Brand', 'Condition', 'Condition', 'Brand', 'Brand', 'Brand', 'Brand', 'Brand', 'Condition', 'Brand', 'Brand', 'Condition', 'Brand', 'Brand', 'Brand', 'Brand', 'Brand', 'Brand', 'Brand', 'Condition', 'Brand', 'Brand', 'Brand', 'Condition', 'Condition', 'Condition', 'Condition', 'Brand', 'Brand', 'Brand', 'Brand', 'Brand', 'Brand', 'Condition', 'Brand', 'Condition', 'Brand', 'Condition', 'Brand', 'Brand', 'Brand', 'Condition', 'Condition', 'Brand', 'Condition', 'Brand', 'Brand', 'Brand', 'Brand', 'Brand', 'Condition', 'Brand', 'Brand', 'Brand', 'Brand', 'Brand', 'Brand', 'Condition', 'Brand', 'Condition', 'Brand', 'Brand', 'Brand', 'Brand', 'Condition', 'Brand', 'Brand', 'Condition', 'Condition', 'Brand', 'Brand', 'Condition', 'Brand', 'Condition', 'Brand', 'Condition', 'Condition', 'Brand', 'Brand', 'Brand', 'Brand', 'Brand', 'Brand', 'Brand', 'Brand', 'Brand', 'Brand', 'Condition', 'Condition', 'Condition', 'Brand', 'Brand', 'Brand', 'Brand', 'Brand', 'Brand', 'Brand', 'Condition', 'Brand', 'Brand', 'Brand', 'Brand', 'Condition', 'Condition', 'Brand', 'Brand', 'Brand', 'Condition', 'Brand', 'Brand', 'Brand', 'Brand', 'Brand', 'Brand', 'Brand', 'Brand', 'Brand', 'Brand', 'Condition', 'Condition', 'Brand', 'Brand', 'Brand', 'Condition', 'Condition', 'Brand', 'Brand', 'Condition', 'Brand', 'Brand', 'Condition', 'Brand', 'Condition', 'Condition', 'Condition', 'Brand', 'Brand', 'Brand', 'Brand', 'Condition', 'Condition', 'Brand', 'Brand', 'Brand', 'Brand', 'Brand', 'Brand', 'Brand', 'Brand', 'Brand', 'Brand', 'Condition', 'Condition', 'Brand', 'Brand', 'Brand', 'Brand', 'Brand', 'Brand', 'Brand', 'Condition', 'Brand', 'Brand', 'Condition', 'Condition', 'Brand', 'Brand', 'Condition', 'Brand', 'Brand', 'Condition', 'Brand', 'Condition', 'Brand', 'Brand', 'Brand', 'Brand', 'Brand', 'Brand', 'Brand', 'Condition', 'Brand', 'Brand', 'Brand', 'Brand', 'Condition', 'Brand', 'Brand', 'Brand', 'Condition', 'Brand', 'Brand', 'Brand', 'Brand', 'Brand', 'Condition', 'Brand', 'Brand', 'Condition', 'Brand', 'Brand', 'Brand', 'Condition', 'Condition', 'Brand', 'Brand', 'Brand', 'Brand', 'Condition', 'Brand', 'Condition', 'Condition', 'Brand', 'Brand', 'Brand', 'Brand', 'Brand', 'Brand', 'Brand', 'Brand', 'Condition', 'Condition', 'Brand', 'Brand', 'Brand', 'Brand', 'Brand', 'Brand', 'Condition', 'Condition', 'Brand', 'Condition', 'Brand', 'Brand', 'Brand', 'Brand', 'Brand', 'Brand', 'Brand', 'Brand', 'Brand', 'Brand', 'Brand', 'Brand', 'Brand', 'Brand', 'Brand', 'Brand', 'Brand', 'Brand', 'Brand', 'Condition', 'Brand', 'Brand', 'Brand', 'Brand', 'Brand', 'Brand', 'Brand', 'Condition', 'Brand', 'Brand', 'Brand', 'Brand', 'Brand', 'Brand', 'Brand', 'Condition', 'Brand', 'Brand', 'Brand', 'Condition', 'Brand', 'Brand', 'Brand', 'Brand', 'Condition', 'Brand', 'Brand', 'Brand', 'Brand', 'Brand', 'Condition', 'Brand', 'Brand', 'Brand', 'Condition', 'Condition', 'Condition', 'Condition', 'Brand', 'Condition', 'Condition', 'Brand', 'Brand', 'Condition', 'Brand', 'Brand', 'Condition', 'Brand', 'Brand', 'Condition', 'Brand', 'Brand', 'Brand', 'Brand', 'Brand', 'Brand', 'Brand', 'Brand', 'Brand', 'Brand', 'Brand', 'Brand', 'Condition', 'Condition', 'Brand', 'Brand', 'Brand', 'Brand', 'Brand', 'Brand', 'Brand', 'Brand', 'Brand', 'Brand', 'Brand', 'Brand', 'Condition', 'Brand', 'Brand', 'Brand', 'Condition', 'Brand', 'Brand', 'Brand', 'Condition', 'Brand', 'Brand', 'Brand', 'Condition', 'Brand', 'Brand', 'Brand', 'Condition', 'Brand', 'Brand', 'Brand', 'Brand', 'Brand', 'Brand', 'Condition', 'Condition', 'Brand', 'Condition', 'Condition', 'Brand', 'Condition', 'Brand', 'Brand', 'Brand', 'Brand', 'Condition', 'Brand', 'Brand', 'Brand', 'Condition', 'Condition', 'Condition', 'Brand', 'Brand', 'Condition', 'Condition', 'Condition', 'Brand', 'Condition', 'Condition', 'Brand', 'Brand', 'Condition', 'Condition', 'Brand', 'Brand', 'Brand', 'Condition', 'Brand', 'Condition', 'Brand', 'Brand', 'Brand', 'Brand', 'Brand', 'Brand', 'Brand', 'Brand', 'Brand', 'Brand', 'Brand', 'Condition', 'Brand', 'Brand', 'Brand', 'Brand', 'Brand', 'Brand', 'Condition', 'Condition', 'Condition', 'Brand', 'Brand', 'Brand', 'Brand', 'Brand', 'Brand', 'Brand', 'Brand', 'Condition', 'Brand', 'Brand', 'Brand', 'Brand', 'Condition', 'Brand', 'Brand', 'Brand', 'Brand', 'Brand', 'Condition', 'Condition', 'Brand', 'Brand', 'Brand', 'Condition', 'Brand', 'Brand', 'Condition', 'Brand', 'Brand', 'Condition', 'Brand', 'Brand', 'Condition', 'Condition', 'Brand', 'Brand', 'Brand', 'Brand', 'Brand', 'Brand', 'Brand', 'Brand', 'Condition', 'Condition', 'Brand', 'Brand', 'Brand', 'Brand', 'Brand', 'Brand', 'Brand', 'Brand', 'Brand', 'Brand', 'Brand', 'Condition', 'Brand', 'Condition', 'Brand', 'Brand', 'Brand', 'Brand', 'Brand', 'Condition', 'Brand', 'Brand', 'Brand', 'Condition', 'Condition', 'Brand', 'Condition', 'Brand', 'Brand', 'Condition', 'Brand', 'Brand', 'Brand', 'Condition', 'Brand', 'Brand', 'Brand', 'Brand', 'Brand', 'Condition', 'Brand', 'Condition', 'Condition', 'Brand', 'Brand', 'Brand', 'Condition', 'Brand', 'Brand', 'Condition', 'Condition', 'Brand', 'Brand', 'Condition', 'Condition', 'Brand', 'Condition', 'Brand', 'Brand', 'Condition', 'Brand', 'Brand', 'Condition', 'Brand', 'Brand', 'Brand', 'Condition', 'Brand', 'Brand', 'Brand', 'Brand', 'Brand', 'Brand', 'Condition', 'Brand', 'Brand', 'Brand', 'Condition', 'Condition', 'Brand', 'Condition', 'Condition', 'Condition', 'Condition', 'Brand', 'Condition', 'Brand', 'Brand', 'Brand', 'Brand', 'Brand', 'Brand', 'Condition', 'Brand', 'Brand', 'Brand', 'Brand', 'Brand', 'Brand', 'Brand', 'Brand', 'Brand', 'Brand', 'Brand', 'Brand', 'Brand', 'Brand', 'Brand', 'Brand', 'Brand', 'Condition', 'Condition', 'Brand', 'Brand', 'Condition', 'Condition', 'Brand', 'Brand', 'Brand', 'Brand', 'Brand', 'Brand', 'Condition', 'Brand', 'Brand', 'Brand', 'Brand', 'Condition', 'Brand', 'Condition', 'Brand', 'Brand', 'Condition', 'Brand', 'Brand', 'Brand', 'Condition', 'Brand', 'Brand', 'Brand', 'Condition', 'Brand', 'Condition', 'Condition', 'Brand', 'Brand', 'Brand', 'Condition', 'Brand', 'Brand', 'Brand', 'Brand', 'Condition', 'Condition', 'Brand', 'Brand', 'Brand', 'Condition', 'Brand', 'Brand', 'Brand', 'Brand', 'Condition', 'Brand', 'Brand', 'Brand', 'Brand', 'Condition', 'Brand', 'Brand', 'Brand', 'Brand', 'Brand', 'Brand', 'Brand', 'Brand', 'Condition', 'Brand', 'Brand', 'Condition', 'Brand', 'Brand', 'Brand', 'Brand', 'Brand', 'Brand', 'Brand', 'Brand', 'Brand', 'Brand', 'Brand', 'Brand', 'Brand', 'Brand', 'Brand', 'Brand', 'Brand', 'Brand', 'Brand', 'Brand', 'Condition', 'Brand', 'Brand', 'Condition', 'Brand', 'Condition', 'Brand', 'Brand', 'Brand', 'Brand', 'Condition', 'Condition', 'Brand', 'Condition', 'Brand', 'Brand', 'Condition', 'Brand', 'Brand', 'Brand', 'Brand', 'Condition', 'Brand', 'Brand', 'Brand', 'Brand', 'Condition', 'Brand', 'Condition', 'Brand', 'Brand', 'Brand', 'Brand', 'Brand', 'Brand', 'Brand', 'Brand', 'Brand', 'Brand', 'Condition', 'Brand', 'Condition', 'Brand', 'Brand', 'Brand', 'Brand', 'Brand', 'Brand', 'Brand', 'Condition', 'Condition', 'Condition', 'Brand', 'Brand', 'Condition', 'Brand', 'Brand', 'Condition', 'Brand', 'Brand', 'Brand', 'Brand', 'Brand', 'Brand', 'Brand', 'Brand', 'Brand', 'Brand', 'Condition', 'Brand', 'Brand', 'Brand', 'Brand', 'Condition', 'Condition', 'Brand', 'Condition', 'Brand', 'Brand', 'Brand', 'Condition', 'Condition', 'Brand', 'Brand', 'Condition', 'Condition', 'Brand', 'Brand', 'Condition', 'Brand', 'Brand', 'Brand', 'Brand', 'Brand', 'Brand', 'Condition', 'Brand', 'Brand', 'Brand', 'Brand', 'Condition', 'Brand', 'Brand', 'Brand', 'Brand', 'Condition', 'Condition', 'Brand', 'Condition', 'Condition', 'Brand', 'Brand', 'Brand', 'Condition', 'Brand', 'Brand', 'Brand', 'Brand', 'Brand', 'Condition', 'Brand', 'Condition', 'Brand', 'Brand', 'Condition', 'Condition', 'Brand', 'Brand', 'Brand', 'Condition', 'Brand', 'Brand', 'Brand', 'Brand', 'Brand', 'Brand', 'Condition', 'Condition', 'Condition', 'Brand', 'Brand', 'Brand', 'Brand', 'Brand', 'Brand', 'Brand', 'Brand', 'Brand', 'Condition', 'Brand', 'Brand', 'Brand', 'Condition', 'Brand', 'Brand', 'Brand', 'Brand', 'Brand', 'Brand', 'Brand', 'Brand', 'Condition', 'Brand', 'Brand', 'Brand', 'Brand', 'Brand', 'Condition', 'Brand', 'Brand', 'Brand', 'Brand', 'Brand', 'Condition', 'Brand', 'Brand', 'Condition', 'Brand', 'Brand', 'Brand', 'Condition', 'Brand', 'Brand', 'Brand', 'Brand', 'Brand', 'Brand', 'Brand', 'Brand', 'Condition', 'Brand', 'Condition', 'Brand', 'Condition', 'Brand', 'Condition', 'Brand', 'Brand', 'Condition', 'Brand', 'Brand', 'Condition', 'Condition', 'Condition', 'Condition', 'Condition', 'Brand', 'Brand', 'Brand', 'Brand', 'Brand', 'Condition', 'Brand', 'Condition', 'Brand', 'Brand', 'Condition', 'Brand', 'Brand', 'Brand', 'Brand', 'Brand', 'Brand', 'Brand', 'Brand', 'Condition', 'Brand', 'Condition', 'Brand', 'Brand', 'Condition', 'Brand', 'Brand', 'Brand', 'Brand', 'Brand', 'Brand', 'Brand', 'Brand', 'Condition', 'Condition', 'Condition', 'Brand', 'Brand', 'Condition', 'Brand', 'Brand', 'Condition', 'Condition', 'Brand', 'Brand', 'Brand', 'Brand', 'Condition', 'Brand', 'Brand', 'Brand', 'Brand', 'Brand', 'Condition', 'Brand', 'Brand', 'Condition', 'Brand', 'Brand', 'Brand', 'Brand', 'Brand', 'Brand', 'Brand', 'Brand', 'Condition', 'Condition', 'Condition', 'Brand', 'Condition', 'Brand', 'Brand', 'Condition', 'Brand', 'Brand', 'Brand', 'Brand', 'Brand', 'Condition', 'Condition', 'Brand', 'Brand', 'Brand', 'Brand', 'Brand', 'Brand', 'Brand', 'Brand', 'Brand', 'Brand', 'Brand', 'Brand', 'Brand', 'Condition', 'Condition', 'Brand', 'Brand', 'Brand', 'Brand', 'Brand', 'Brand', 'Brand', 'Brand', 'Brand', 'Brand', 'Brand', 'Brand', 'Brand', 'Brand', 'Brand', 'Brand', 'Brand', 'Brand', 'Brand', 'Condition', 'Brand', 'Condition', 'Brand', 'Brand', 'Brand', 'Brand', 'Brand', 'Brand', 'Brand', 'Brand', 'Condition', 'Brand', 'Brand', 'Condition', 'Condition', 'Condition', 'Brand', 'Brand', 'Brand', 'Brand', 'Condition', 'Condition', 'Brand', 'Condition', 'Condition', 'Condition', 'Brand', 'Brand', 'Brand', 'Brand', 'Brand', 'Brand', 'Brand', 'Brand', 'Condition', 'Brand', 'Brand', 'Brand', 'Brand', 'Condition', 'Brand', 'Brand', 'Brand', 'Brand', 'Brand', 'Brand', 'Condition', 'Brand', 'Condition', 'Brand', 'Brand', 'Brand', 'Brand', 'Brand', 'Brand', 'Brand', 'Brand', 'Brand', 'Condition', 'Brand', 'Brand', 'Brand', 'Brand', 'Condition', 'Brand', 'Brand', 'Brand', 'Brand', 'Brand', 'Brand', 'Brand', 'Brand', 'Brand', 'Condition', 'Brand', 'Condition', 'Brand', 'Brand', 'Condition', 'Condition', 'Brand', 'Condition', 'Condition', 'Brand', 'Brand', 'Brand', 'Brand', 'Condition', 'Brand', 'Brand', 'Brand', 'Brand', 'Brand', 'Brand', 'Brand', 'Brand', 'Brand', 'Condition', 'Condition', 'Condition', 'Condition', 'Brand', 'Brand', 'Brand', 'Brand', 'Brand', 'Brand', 'Brand', 'Brand', 'Brand', 'Condition', 'Brand', 'Brand', 'Brand', 'Condition', 'Brand', 'Condition', 'Brand', 'Brand', 'Condition', 'Brand', 'Brand', 'Condition', 'Brand', 'Brand', 'Brand', 'Condition', 'Brand', 'Brand', 'Brand', 'Condition', 'Brand', 'Brand', 'Condition', 'Brand', 'Brand', 'Brand', 'Brand', 'Brand', 'Condition', 'Brand', 'Brand', 'Brand', 'Brand', 'Condition', 'Brand', 'Condition', 'Condition', 'Brand', 'Brand', 'Condition', 'Brand', 'Condition', 'Brand', 'Brand', 'Condition', 'Brand', 'Condition', 'Condition', 'Brand', 'Brand', 'Condition', 'Brand', 'Brand', 'Brand', 'Brand', 'Brand', 'Brand', 'Brand', 'Condition', 'Condition', 'Brand', 'Brand', 'Brand', 'Condition', 'Brand', 'Condition', 'Brand', 'Brand', 'Brand', 'Brand', 'Condition', 'Brand', 'Condition', 'Brand', 'Condition', 'Brand', 'Condition', 'Brand', 'Brand', 'Brand', 'Brand', 'Brand', 'Brand', 'Brand', 'Condition', 'Condition', 'Brand', 'Brand', 'Brand', 'Condition', 'Brand', 'Condition', 'Brand', 'Brand', 'Brand', 'Condition', 'Brand', 'Brand', 'Brand', 'Condition', 'Brand', 'Brand', 'Brand', 'Brand', 'Condition', 'Brand', 'Condition', 'Brand', 'Condition', 'Brand', 'Brand', 'Brand', 'Brand', 'Brand', 'Brand', 'Brand', 'Brand', 'Brand', 'Brand', 'Condition', 'Condition', 'Brand', 'Condition', 'Brand', 'Condition', 'Brand', 'Brand', 'Brand', 'Condition', 'Brand', 'Brand', 'Brand', 'Brand', 'Brand', 'Brand', 'Condition', 'Brand', 'Brand', 'Brand', 'Brand', 'Condition', 'Brand', 'Brand', 'Brand', 'Brand', 'Brand', 'Brand', 'Condition', 'Condition', 'Brand', 'Condition', 'Brand', 'Brand', 'Brand', 'Brand', 'Brand', 'Brand', 'Condition', 'Brand', 'Brand', 'Brand', 'Brand', 'Brand', 'Brand', 'Brand', 'Brand', 'Brand', 'Brand', 'Brand', 'Brand', 'Brand', 'Condition', 'Brand', 'Brand', 'Condition', 'Brand', 'Brand', 'Condition', 'Brand', 'Brand', 'Brand', 'Brand', 'Brand', 'Brand', 'Brand', 'Brand', 'Brand', 'Brand', 'Condition', 'Brand', 'Condition', 'Condition', 'Brand', 'Brand', 'Brand', 'Condition', 'Brand', 'Brand', 'Brand', 'Brand', 'Brand', 'Brand', 'Brand', 'Brand', 'Condition', 'Brand', 'Brand', 'Condition', 'Brand', 'Condition', 'Brand', 'Brand', 'Brand', 'Brand', 'Brand', 'Brand', 'Condition', 'Condition', 'Brand', 'Brand', 'Condition', 'Brand', 'Brand', 'Brand', 'Brand', 'Brand', 'Condition', 'Brand', 'Condition', 'Brand', 'Condition', 'Brand', 'Brand', 'Brand', 'Condition', 'Brand', 'Brand', 'Brand', 'Brand', 'Condition', 'Condition', 'Brand', 'Condition', 'Brand', 'Brand', 'Brand', 'Brand', 'Brand', 'Condition', 'Brand', 'Condition', 'Brand', 'Brand', 'Brand', 'Brand', 'Brand', 'Brand', 'Brand', 'Brand', 'Brand', 'Condition', 'Brand', 'Brand', 'Brand', 'Brand', 'Brand', 'Brand', 'Brand', 'Brand', 'Brand', 'Brand', 'Brand', 'Brand', 'Condition', 'Condition', 'Brand', 'Brand', 'Brand', 'Brand', 'Brand', 'Brand', 'Condition', 'Brand', 'Brand', 'Brand', 'Brand', 'Condition', 'Brand', 'Brand', 'Brand', 'Brand', 'Brand', 'Brand', 'Condition', 'Brand', 'Brand', 'Brand', 'Brand', 'Condition', 'Condition', 'Brand', 'Brand', 'Brand', 'Condition', 'Condition', 'Brand', 'Brand', 'Brand', 'Brand', 'Brand', 'Brand', 'Brand', 'Brand', 'Brand', 'Brand', 'Condition', 'Brand', 'Condition', 'Condition', 'Brand', 'Brand', 'Brand', 'Brand', 'Condition', 'Brand', 'Brand', 'Brand', 'Brand', 'Brand', 'Condition', 'Brand', 'Brand', 'Brand', 'Brand', 'Condition', 'Condition', 'Condition', 'Brand', 'Brand', 'Brand', 'Condition', 'Brand', 'Brand', 'Brand', 'Brand', 'Brand', 'Condition', 'Brand', 'Brand', 'Brand', 'Brand', 'Brand', 'Condition', 'Condition', 'Condition', 'Brand', 'Brand', 'Brand', 'Condition', 'Brand', 'Brand', 'Brand', 'Brand', 'Brand', 'Brand', 'Brand', 'Brand', 'Brand', 'Brand', 'Condition', 'Brand', 'Brand', 'Brand', 'Brand', 'Brand', 'Brand', 'Brand', 'Brand', 'Brand', 'Condition', 'Condition', 'Brand', 'Brand', 'Brand', 'Brand', 'Brand', 'Brand', 'Condition', 'Brand', 'Brand', 'Condition', 'Condition', 'Brand', 'Brand', 'Brand', 'Brand', 'Brand', 'Brand', 'Brand', 'Brand', 'Brand', 'Condition', 'Brand', 'Brand', 'Brand', 'Condition', 'Condition', 'Brand', 'Condition', 'Brand', 'Brand', 'Condition', 'Brand', 'Brand', 'Condition', 'Brand', 'Brand', 'Brand', 'Brand', 'Condition', 'Brand', 'Condition', 'Condition', 'Condition', 'Brand', 'Brand', 'Brand', 'Brand', 'Brand', 'Condition', 'Brand', 'Brand', 'Brand', 'Brand', 'Brand', 'Brand', 'Brand', 'Condition', 'Brand', 'Brand', 'Brand', 'Brand', 'Condition', 'Condition', 'Brand', 'Brand', 'Brand', 'Brand', 'Brand', 'Condition', 'Condition', 'Brand', 'Brand', 'Brand', 'Brand', 'Brand', 'Brand', 'Condition', 'Condition', 'Brand', 'Brand', 'Brand', 'Brand', 'Condition', 'Condition', 'Brand', 'Brand', 'Brand', 'Brand', 'Brand', 'Brand', 'Brand', 'Brand', 'Brand', 'Brand', 'Condition', 'Brand', 'Brand', 'Condition', 'Brand', 'Condition', 'Brand', 'Condition', 'Brand', 'Brand', 'Brand', 'Brand', 'Brand', 'Brand', 'Brand', 'Brand', 'Brand', 'Brand', 'Brand', 'Brand', 'Brand', 'Brand', 'Brand', 'Brand', 'Condition', 'Condition', 'Brand', 'Brand', 'Brand', 'Brand', 'Brand', 'Brand', 'Brand', 'Condition', 'Brand', 'Condition', 'Condition', 'Brand', 'Brand', 'Brand', 'Brand', 'Condition', 'Condition', 'Condition', 'Brand', 'Brand', 'Condition', 'Brand', 'Brand', 'Brand', 'Brand', 'Brand', 'Brand', 'Condition', 'Brand', 'Brand', 'Brand', 'Condition', 'Brand', 'Brand', 'Brand', 'Brand', 'Brand', 'Brand', 'Brand', 'Brand', 'Brand', 'Brand', 'Brand', 'Brand', 'Brand', 'Brand', 'Brand', 'Brand', 'Brand', 'Brand', 'Brand', 'Brand', 'Brand', 'Brand', 'Brand', 'Condition', 'Brand', 'Brand', 'Condition', 'Brand', 'Brand', 'Brand', 'Condition', 'Brand', 'Brand', 'Brand', 'Condition', 'Brand', 'Brand', 'Brand', 'Brand', 'Brand', 'Brand', 'Condition', 'Brand', 'Brand', 'Condition', 'Brand', 'Brand', 'Condition', 'Brand', 'Brand', 'Brand', 'Brand', 'Brand', 'Brand', 'Brand', 'Condition', 'Brand', 'Brand', 'Brand', 'Brand', 'Brand', 'Brand', 'Brand', 'Brand', 'Brand', 'Brand', 'Brand', 'Brand', 'Brand', 'Brand', 'Brand', 'Brand', 'Brand', 'Condition', 'Condition', 'Brand', 'Brand', 'Condition', 'Brand', 'Brand', 'Brand', 'Condition', 'Brand', 'Brand', 'Brand', 'Condition', 'Brand', 'Brand', 'Brand', 'Condition', 'Brand', 'Brand', 'Brand', 'Condition', 'Condition', 'Brand', 'Brand', 'Condition', 'Brand', 'Brand', 'Brand', 'Brand', 'Brand', 'Brand', 'Brand', 'Brand', 'Brand', 'Condition', 'Condition', 'Brand', 'Condition', 'Brand', 'Brand', 'Brand', 'Brand', 'Brand', 'Brand', 'Condition', 'Condition', 'Brand', 'Brand', 'Brand', 'Condition', 'Brand', 'Brand', 'Condition', 'Brand', 'Condition', 'Condition', 'Condition', 'Condition', 'Brand', 'Brand', 'Brand', 'Brand', 'Condition', 'Brand', 'Brand', 'Brand', 'Brand', 'Brand', 'Brand', 'Brand', 'Brand', 'Brand', 'Brand', 'Condition', 'Brand', 'Brand', 'Brand', 'Brand', 'Brand', 'Brand', 'Brand', 'Condition', 'Brand', 'Condition', 'Brand', 'Brand', 'Brand', 'Brand', 'Brand', 'Brand', 'Brand', 'Brand', 'Brand', 'Brand', 'Brand', 'Condition', 'Brand', 'Brand', 'Condition', 'Brand', 'Condition', 'Brand', 'Condition', 'Condition', 'Brand', 'Brand', 'Brand', 'Brand', 'Brand', 'Brand', 'Brand', 'Condition', 'Condition', 'Condition', 'Brand', 'Brand', 'Brand', 'Brand', 'Brand', 'Brand', 'Brand', 'Brand', 'Brand', 'Brand', 'Brand', 'Brand', 'Condition', 'Condition', 'Condition', 'Condition', 'Brand', 'Brand', 'Brand', 'Brand', 'Brand', 'Brand', 'Brand', 'Brand', 'Brand', 'Condition', 'Brand', 'Condition', 'Condition', 'Brand', 'Brand', 'Brand', 'Brand', 'Brand', 'Brand', 'Brand', 'Brand', 'Brand', 'Brand', 'Brand', 'Condition', 'Brand', 'Condition', 'Brand', 'Condition', 'Condition', 'Brand', 'Condition', 'Brand', 'Brand', 'Brand', 'Brand', 'Brand', 'Brand', 'Brand', 'Brand', 'Condition', 'Condition', 'Brand', 'Brand', 'Condition', 'Brand', 'Brand', 'Brand', 'Brand', 'Brand', 'Condition', 'Condition', 'Brand', 'Brand', 'Brand', 'Brand', 'Brand', 'Brand', 'Brand', 'Brand', 'Condition', 'Brand', 'Brand', 'Condition', 'Brand', 'Brand', 'Brand', 'Condition', 'Brand', 'Brand', 'Brand', 'Condition', 'Brand', 'Condition', 'Brand', 'Condition', 'Brand', 'Condition', 'Condition', 'Condition', 'Condition', 'Condition', 'Brand', 'Condition', 'Brand', 'Condition', 'Brand', 'Brand', 'Brand', 'Condition', 'Condition', 'Condition', 'Condition', 'Condition', 'Brand', 'Brand', 'Condition', 'Condition', 'Brand', 'Condition', 'Brand', 'Condition', 'Condition', 'Brand', 'Condition', 'Brand', 'Condition', 'Brand', 'Brand', 'Condition', 'Brand', 'Condition', 'Brand', 'Condition', 'Brand', 'Brand', 'Brand', 'Brand', 'Condition', 'Brand', 'Condition', 'Brand', 'Brand', 'Brand', 'Brand', 'Brand', 'Brand', 'Brand', 'Brand', 'Brand', 'Brand', 'Brand', 'Brand', 'Brand', 'Condition', 'Brand', 'Brand', 'Brand', 'Brand', 'Condition', 'Brand', 'Brand', 'Condition', 'Brand', 'Condition', 'Brand', 'Brand', 'Brand', 'Brand', 'Brand', 'Brand', 'Brand', 'Brand', 'Condition', 'Brand', 'Brand', 'Brand', 'Brand', 'Brand', 'Brand', 'Brand', 'Brand', 'Brand', 'Brand', 'Brand', 'Brand', 'Brand', 'Condition', 'Condition', 'Brand', 'Brand', 'Brand', 'Brand', 'Condition', 'Condition', 'Brand', 'Condition', 'Brand', 'Brand', 'Brand', 'Brand', 'Condition', 'Condition', 'Condition', 'Brand', 'Brand', 'Condition', 'Condition', 'Brand', 'Condition', 'Brand', 'Brand', 'Brand', 'Brand', 'Condition', 'Brand', 'Brand', 'Brand', 'Brand', 'Brand', 'Brand', 'Condition', 'Brand', 'Brand', 'Brand', 'Brand', 'Brand', 'Condition', 'Brand', 'Brand', 'Brand', 'Brand', 'Brand', 'Condition', 'Condition', 'Brand', 'Condition', 'Condition', 'Brand', 'Brand', 'Condition', 'Brand', 'Brand', 'Condition', 'Brand', 'Brand', 'Condition', 'Condition', 'Brand', 'Condition', 'Brand', 'Brand', 'Condition', 'Brand', 'Brand', 'Brand', 'Brand', 'Brand', 'Brand', 'Brand', 'Brand', 'Condition', 'Condition', 'Brand', 'Brand', 'Brand', 'Brand', 'Condition', 'Brand', 'Brand', 'Condition', 'Brand', 'Brand', 'Brand', 'Brand', 'Brand', 'Condition', 'Condition', 'Condition', 'Brand', 'Condition', 'Condition', 'Condition', 'Brand', 'Brand', 'Brand', 'Brand', 'Brand', 'Brand', 'Brand', 'Condition', 'Brand', 'Brand', 'Brand', 'Condition', 'Brand', 'Brand', 'Condition', 'Brand', 'Brand', 'Brand', 'Brand', 'Brand', 'Condition', 'Brand', 'Brand', 'Brand', 'Brand', 'Brand', 'Brand', 'Condition', 'Brand', 'Brand', 'Brand', 'Brand', 'Brand', 'Brand', 'Brand', 'Brand', 'Condition', 'Brand', 'Brand', 'Condition', 'Condition', 'Brand', 'Brand', 'Brand', 'Condition', 'Brand', 'Condition', 'Condition', 'Brand', 'Brand', 'Brand', 'Condition', 'Condition', 'Brand', 'Brand', 'Brand', 'Condition', 'Condition', 'Brand', 'Condition', 'Condition', 'Brand', 'Brand', 'Brand', 'Condition', 'Brand', 'Brand', 'Condition', 'Brand', 'Brand', 'Brand', 'Brand', 'Brand', 'Brand', 'Condition', 'Brand', 'Condition', 'Brand', 'Brand', 'Brand', 'Brand', 'Condition', 'Condition', 'Brand', 'Brand', 'Brand', 'Condition', 'Condition', 'Condition', 'Brand', 'Brand', 'Condition', 'Brand', 'Brand', 'Brand', 'Brand', 'Condition', 'Brand', 'Brand', 'Brand', 'Brand', 'Condition', 'Condition', 'Brand', 'Brand', 'Brand', 'Brand', 'Brand', 'Brand', 'Condition', 'Brand', 'Condition', 'Brand', 'Brand', 'Brand', 'Brand', 'Condition', 'Condition', 'Condition', 'Brand', 'Brand', 'Brand', 'Condition', 'Brand', 'Brand', 'Condition', 'Brand', 'Condition', 'Brand', 'Brand', 'Brand', 'Brand', 'Brand', 'Condition', 'Brand', 'Brand', 'Brand', 'Brand', 'Brand', 'Brand', 'Brand', 'Condition', 'Brand', 'Condition', 'Brand', 'Brand', 'Brand', 'Brand', 'Condition', 'Brand', 'Condition', 'Brand', 'Condition', 'Condition', 'Condition', 'Condition', 'Brand', 'Brand', 'Brand', 'Brand', 'Condition', 'Condition', 'Brand', 'Brand', 'Brand', 'Brand', 'Condition', 'Condition', 'Brand', 'Brand', 'Brand', 'Brand', 'Brand', 'Brand', 'Brand', 'Brand', 'Brand', 'Brand', 'Brand', 'Brand', 'Brand', 'Brand', 'Brand', 'Brand', 'Brand', 'Brand', 'Brand', 'Condition', 'Brand', 'Condition', 'Brand', 'Brand', 'Brand', 'Brand', 'Brand', 'Brand', 'Condition', 'Condition', 'Condition', 'Brand', 'Condition', 'Condition', 'Condition', 'Brand', 'Brand', 'Brand', 'Condition', 'Brand', 'Condition', 'Brand', 'Brand', 'Condition', 'Brand', 'Brand', 'Brand', 'Condition', 'Condition', 'Brand', 'Brand', 'Brand', 'Brand', 'Brand', 'Brand', 'Condition', 'Condition', 'Brand', 'Brand', 'Condition', 'Brand', 'Brand', 'Brand', 'Brand', 'Brand', 'Brand', 'Brand', 'Brand', 'Brand', 'Condition', 'Brand', 'Brand', 'Condition', 'Brand', 'Condition', 'Brand', 'Brand', 'Brand', 'Brand', 'Brand', 'Brand', 'Brand', 'Brand', 'Brand', 'Condition', 'Brand', 'Brand', 'Brand', 'Brand', 'Condition', 'Brand', 'Condition', 'Brand', 'Brand', 'Brand', 'Condition', 'Brand', 'Brand', 'Brand', 'Condition', 'Brand', 'Brand', 'Brand', 'Condition', 'Brand', 'Brand', 'Brand', 'Brand', 'Brand', 'Brand', 'Brand', 'Brand', 'Condition', 'Brand', 'Brand', 'Condition', 'Brand', 'Brand', 'Brand', 'Condition', 'Brand', 'Brand', 'Brand', 'Brand', 'Brand', 'Brand', 'Brand', 'Brand', 'Brand', 'Brand', 'Brand', 'Brand', 'Condition', 'Brand', 'Condition', 'Condition', 'Brand', 'Brand', 'Brand', 'Brand', 'Condition', 'Condition', 'Condition', 'Brand', 'Brand', 'Brand', 'Condition', 'Condition', 'Brand', 'Condition', 'Condition', 'Brand', 'Condition', 'Brand', 'Condition', 'Brand', 'Condition', 'Brand', 'Brand', 'Brand', 'Brand', 'Brand', 'Condition', 'Brand', 'Brand', 'Condition', 'Brand', 'Brand', 'Condition', 'Condition', 'Condition', 'Brand', 'Brand', 'Brand', 'Brand', 'Brand', 'Brand', 'Condition', 'Brand', 'Brand', 'Brand', 'Brand', 'Brand', 'Condition', 'Condition', 'Brand', 'Condition', 'Brand', 'Brand', 'Brand', 'Brand', 'Condition', 'Brand', 'Brand', 'Brand', 'Brand', 'Brand', 'Brand', 'Condition', 'Brand', 'Brand', 'Brand', 'Condition', 'Brand', 'Brand', 'Brand', 'Brand', 'Brand', 'Brand', 'Brand', 'Brand', 'Condition', 'Condition', 'Condition', 'Condition', 'Brand', 'Brand', 'Condition', 'Brand', 'Brand', 'Brand', 'Brand', 'Brand', 'Condition', 'Condition', 'Condition', 'Brand', 'Brand', 'Brand', 'Brand', 'Brand', 'Condition', 'Condition', 'Brand', 'Brand', 'Brand', 'Brand', 'Condition', 'Condition', 'Brand', 'Brand', 'Brand', 'Condition', 'Brand', 'Brand', 'Brand', 'Brand', 'Brand', 'Brand', 'Brand', 'Brand', 'Brand', 'Brand', 'Brand', 'Brand', 'Condition', 'Brand', 'Brand', 'Brand', 'Brand', 'Brand', 'Brand', 'Brand', 'Condition', 'Brand', 'Brand', 'Brand', 'Brand', 'Condition', 'Brand', 'Brand', 'Brand', 'Brand', 'Brand', 'Condition', 'Brand', 'Condition', 'Condition', 'Brand', 'Condition', 'Brand', 'Condition', 'Condition', 'Brand', 'Condition', 'Brand', 'Brand', 'Brand', 'Brand', 'Brand', 'Brand', 'Brand', 'Condition', 'Condition', 'Brand', 'Condition', 'Brand', 'Condition', 'Brand', 'Brand', 'Brand', 'Brand', 'Brand', 'Brand', 'Brand', 'Brand', 'Brand', 'Brand', 'Brand', 'Brand', 'Brand', 'Condition', 'Brand', 'Brand', 'Condition', 'Condition', 'Brand', 'Brand', 'Brand', 'Condition', 'Brand', 'Condition', 'Brand', 'Brand', 'Brand', 'Condition', 'Brand', 'Brand', 'Brand', 'Brand', 'Brand', 'Brand', 'Condition', 'Brand', 'Brand', 'Brand', 'Brand', 'Condition', 'Brand', 'Brand', 'Condition', 'Condition', 'Condition', 'Brand', 'Brand', 'Brand', 'Brand', 'Brand', 'Condition', 'Condition', 'Brand', 'Condition', 'Brand', 'Brand', 'Brand', 'Condition', 'Brand', 'Condition', 'Brand', 'Brand', 'Brand', 'Brand', 'Brand', 'Brand', 'Brand', 'Brand', 'Condition', 'Brand', 'Brand', 'Brand', 'Condition', 'Brand', 'Brand', 'Brand', 'Condition', 'Condition', 'Brand', 'Brand', 'Brand', 'Condition', 'Condition', 'Brand', 'Condition', 'Condition', 'Brand', 'Brand', 'Condition', 'Brand', 'Brand', 'Brand', 'Brand', 'Brand', 'Brand', 'Brand', 'Brand', 'Brand', 'Condition', 'Condition', 'Brand', 'Brand', 'Brand', 'Brand', 'Brand', 'Brand', 'Condition', 'Brand', 'Brand', 'Brand', 'Brand', 'Brand', 'Brand', 'Brand', 'Brand', 'Brand', 'Brand', 'Brand', 'Brand', 'Brand', 'Brand', 'Brand', 'Brand', 'Brand', 'Brand', 'Brand', 'Brand', 'Condition', 'Brand', 'Brand', 'Brand', 'Brand', 'Brand', 'Brand', 'Brand', 'Brand', 'Condition', 'Brand', 'Condition', 'Brand', 'Condition', 'Brand', 'Brand', 'Condition', 'Brand', 'Brand', 'Condition', 'Brand', 'Brand', 'Brand', 'Brand', 'Brand', 'Brand', 'Brand', 'Brand', 'Brand', 'Brand', 'Condition', 'Brand', 'Brand', 'Brand', 'Brand', 'Brand', 'Condition', 'Brand', 'Brand', 'Brand', 'Brand', 'Condition', 'Condition', 'Brand', 'Brand', 'Condition', 'Condition', 'Brand', 'Brand', 'Brand', 'Brand', 'Brand', 'Brand', 'Brand', 'Brand', 'Brand', 'Brand', 'Brand', 'Brand', 'Brand', 'Brand', 'Brand', 'Brand', 'Brand', 'Brand', 'Brand', 'Brand', 'Brand', 'Condition', 'Condition', 'Brand', 'Brand', 'Brand', 'Condition', 'Brand', 'Brand', 'Brand', 'Condition', 'Brand', 'Brand', 'Brand', 'Condition', 'Brand', 'Condition', 'Brand', 'Brand', 'Brand', 'Brand', 'Brand', 'Brand', 'Brand', 'Brand', 'Brand', 'Brand', 'Brand', 'Brand', 'Brand', 'Condition', 'Condition', 'Brand', 'Brand', 'Brand', 'Condition', 'Condition', 'Brand', 'Brand', 'Brand', 'Condition', 'Condition', 'Brand', 'Brand', 'Brand', 'Brand', 'Condition', 'Brand', 'Brand', 'Brand', 'Brand', 'Brand', 'Brand', 'Brand', 'Brand', 'Brand', 'Brand', 'Brand', 'Brand', 'Brand', 'Brand', 'Brand', 'Condition', 'Brand', 'Brand', 'Condition', 'Brand', 'Brand', 'Brand', 'Brand', 'Brand', 'Brand', 'Brand', 'Brand', 'Brand', 'Condition', 'Condition', 'Condition', 'Condition', 'Brand', 'Brand', 'Brand', 'Brand', 'Condition', 'Brand', 'Condition', 'Condition', 'Condition', 'Brand', 'Brand', 'Brand', 'Brand', 'Brand', 'Condition', 'Brand', 'Brand', 'Brand', 'Brand', 'Brand', 'Condition', 'Brand', 'Brand', 'Brand', 'Brand', 'Brand', 'Brand', 'Brand', 'Condition', 'Brand', 'Brand', 'Brand', 'Brand', 'Brand', 'Brand', 'Brand', 'Brand', 'Condition', 'Brand', 'Brand', 'Brand', 'Brand', 'Condition', 'Condition', 'Brand', 'Brand', 'Brand', 'Condition', 'Brand', 'Brand', 'Condition', 'Brand', 'Brand', 'Brand', 'Brand', 'Condition', 'Brand', 'Brand', 'Brand', 'Condition', 'Brand', 'Brand', 'Brand', 'Condition', 'Condition', 'Condition', 'Brand', 'Brand', 'Brand', 'Brand', 'Brand', 'Brand', 'Brand', 'Brand', 'Brand', 'Brand', 'Brand', 'Brand', 'Brand', 'Brand', 'Brand', 'Brand', 'Brand', 'Brand', 'Brand', 'Condition', 'Condition', 'Condition', 'Condition', 'Brand', 'Condition', 'Condition', 'Brand', 'Brand', 'Brand', 'Brand', 'Brand', 'Brand', 'Brand', 'Brand', 'Brand', 'Brand', 'Brand', 'Brand', 'Brand', 'Brand', 'Brand', 'Brand', 'Brand', 'Condition', 'Brand', 'Brand', 'Brand', 'Brand', 'Brand', 'Brand', 'Condition', 'Brand', 'Brand', 'Brand', 'Brand', 'Brand', 'Condition', 'Brand', 'Condition', 'Brand', 'Condition', 'Condition', 'Brand', 'Brand', 'Condition', 'Brand', 'Brand', 'Condition', 'Brand', 'Brand', 'Condition', 'Brand', 'Brand', 'Condition', 'Brand', 'Brand', 'Brand', 'Brand', 'Brand', 'Condition', 'Brand', 'Brand', 'Brand', 'Brand', 'Brand', 'Condition', 'Brand', 'Condition', 'Brand', 'Brand', 'Brand', 'Condition', 'Brand', 'Condition', 'Brand', 'Condition', 'Brand', 'Brand', 'Brand', 'Condition', 'Brand', 'Brand', 'Condition', 'Brand', 'Brand', 'Condition', 'Condition', 'Condition', 'Brand', 'Brand', 'Brand', 'Brand', 'Brand', 'Brand', 'Brand', 'Brand', 'Condition', 'Brand', 'Brand', 'Condition', 'Brand', 'Brand', 'Condition', 'Brand', 'Brand', 'Brand', 'Brand', 'Brand', 'Brand', 'Brand', 'Brand', 'Brand', 'Brand', 'Brand', 'Brand', 'Brand', 'Condition', 'Brand', 'Condition', 'Condition', 'Brand', 'Condition', 'Brand', 'Condition', 'Condition', 'Condition', 'Brand', 'Condition', 'Brand', 'Brand', 'Brand', 'Brand', 'Brand', 'Brand', 'Brand', 'Condition', 'Brand', 'Brand', 'Brand', 'Brand', 'Brand', 'Brand', 'Condition', 'Brand', 'Brand', 'Brand', 'Brand', 'Brand', 'Brand', 'Brand', 'Condition', 'Brand', 'Brand', 'Brand', 'Brand', 'Condition', 'Brand', 'Condition', 'Brand', 'Condition', 'Condition', 'Condition', 'Brand', 'Brand', 'Condition', 'Brand', 'Brand', 'Brand', 'Brand', 'Condition', 'Condition', 'Brand', 'Condition', 'Brand', 'Brand', 'Condition', 'Brand', 'Brand', 'Brand', 'Brand', 'Brand', 'Brand', 'Condition', 'Brand', 'Brand', 'Brand', 'Brand', 'Condition', 'Brand', 'Condition', 'Condition', 'Condition', 'Brand', 'Brand', 'Condition', 'Condition', 'Brand', 'Condition', 'Brand', 'Brand', 'Brand', 'Condition', 'Brand', 'Brand', 'Brand', 'Brand', 'Brand', 'Brand', 'Brand', 'Brand', 'Brand', 'Brand', 'Brand', 'Brand', 'Brand', 'Brand', 'Brand', 'Brand', 'Brand', 'Brand', 'Brand', 'Condition', 'Brand', 'Brand', 'Condition', 'Condition', 'Brand', 'Condition', 'Brand', 'Brand', 'Brand', 'Brand', 'Condition', 'Brand', 'Brand', 'Brand', 'Brand', 'Brand', 'Brand', 'Condition', 'Brand', 'Brand', 'Brand', 'Brand', 'Condition', 'Brand', 'Brand', 'Brand', 'Brand', 'Brand', 'Brand', 'Brand', 'Condition', 'Condition', 'Brand', 'Brand', 'Brand', 'Brand', 'Brand', 'Brand', 'Condition', 'Condition', 'Brand', 'Brand', 'Brand', 'Brand', 'Brand', 'Brand', 'Brand', 'Brand', 'Condition', 'Brand', 'Brand', 'Brand', 'Condition', 'Brand', 'Brand', 'Condition', 'Brand', 'Brand', 'Brand', 'Brand', 'Brand', 'Brand', 'Condition', 'Brand', 'Brand', 'Brand', 'Brand', 'Condition', 'Brand', 'Condition', 'Condition', 'Brand', 'Brand', 'Brand', 'Condition', 'Condition', 'Condition', 'Brand', 'Condition', 'Condition', 'Condition', 'Condition', 'Brand', 'Condition', 'Condition', 'Brand', 'Brand', 'Brand', 'Brand', 'Brand', 'Brand', 'Brand', 'Condition', 'Brand', 'Condition', 'Brand', 'Brand', 'Condition', 'Brand', 'Condition', 'Brand', 'Brand', 'Condition', 'Brand', 'Brand', 'Brand', 'Brand', 'Brand', 'Brand', 'Brand', 'Brand', 'Condition', 'Brand', 'Condition', 'Brand', 'Brand', 'Brand', 'Brand', 'Brand', 'Brand', 'Brand', 'Brand', 'Brand', 'Condition', 'Brand', 'Condition', 'Condition', 'Brand', 'Brand', 'Condition', 'Condition', 'Brand', 'Brand', 'Brand', 'Brand', 'Condition', 'Brand', 'Brand', 'Brand', 'Brand', 'Condition', 'Brand', 'Condition', 'Brand', 'Brand', 'Brand', 'Brand', 'Brand', 'Condition', 'Brand', 'Brand', 'Brand', 'Brand', 'Brand', 'Brand', 'Brand', 'Brand', 'Brand', 'Condition', 'Condition', 'Brand', 'Brand', 'Brand', 'Condition', 'Brand', 'Brand', 'Brand', 'Condition', 'Condition', 'Brand', 'Brand', 'Brand', 'Brand', 'Condition', 'Brand', 'Condition', 'Brand', 'Brand', 'Brand', 'Brand', 'Brand', 'Brand', 'Brand', 'Brand', 'Brand', 'Brand', 'Brand', 'Condition', 'Brand', 'Condition', 'Brand', 'Brand', 'Condition', 'Brand', 'Brand', 'Brand', 'Brand', 'Brand', 'Brand', 'Brand', 'Brand', 'Condition', 'Condition', 'Brand', 'Brand', 'Condition', 'Brand', 'Brand', 'Condition', 'Brand', 'Brand', 'Condition', 'Brand', 'Brand', 'Brand', 'Brand', 'Brand', 'Brand', 'Brand', 'Brand', 'Brand', 'Condition', 'Brand', 'Brand', 'Brand', 'Condition', 'Brand', 'Brand', 'Brand', 'Brand', 'Brand', 'Brand', 'Condition', 'Condition', 'Brand', 'Brand', 'Brand', 'Brand', 'Condition', 'Condition', 'Brand', 'Brand', 'Brand', 'Brand', 'Brand', 'Brand', 'Brand', 'Brand', 'Brand', 'Condition', 'Brand', 'Brand', 'Brand', 'Brand', 'Brand', 'Condition', 'Brand', 'Condition', 'Brand', 'Brand', 'Brand', 'Brand', 'Condition', 'Condition', 'Brand', 'Brand', 'Brand', 'Brand', 'Brand', 'Brand', 'Brand', 'Brand', 'Brand', 'Condition', 'Brand', 'Brand', 'Brand', 'Condition', 'Brand', 'Brand', 'Condition', 'Brand', 'Condition', 'Brand', 'Brand', 'Brand', 'Brand', 'Brand', 'Condition', 'Condition', 'Brand', 'Brand', 'Brand', 'Brand', 'Brand', 'Condition', 'Brand', 'Condition', 'Brand', 'Brand', 'Brand', 'Brand', 'Brand', 'Condition', 'Brand', 'Condition', 'Condition', 'Brand', 'Condition', 'Brand', 'Brand', 'Brand', 'Brand', 'Condition', 'Brand', 'Brand', 'Condition', 'Condition', 'Condition', 'Condition', 'Brand', 'Brand', 'Brand', 'Brand', 'Brand', 'Brand', 'Brand', 'Brand', 'Brand', 'Brand', 'Brand', 'Brand', 'Brand', 'Brand', 'Brand', 'Brand', 'Brand', 'Condition', 'Brand', 'Brand', 'Brand', 'Brand', 'Brand', 'Brand', 'Condition', 'Brand', 'Brand', 'Brand', 'Condition', 'Brand', 'Brand', 'Condition', 'Condition', 'Brand', 'Brand', 'Brand', 'Brand', 'Brand', 'Brand', 'Brand', 'Brand', 'Brand', 'Brand', 'Condition', 'Condition', 'Brand', 'Condition', 'Brand', 'Brand', 'Brand', 'Brand', 'Brand', 'Brand', 'Brand', 'Brand', 'Brand', 'Brand', 'Brand', 'Brand', 'Condition', 'Brand', 'Brand', 'Brand', 'Brand', 'Brand', 'Condition', 'Brand', 'Brand', 'Brand', 'Brand', 'Brand', 'Brand', 'Brand', 'Condition', 'Condition', 'Brand', 'Brand', 'Condition', 'Condition', 'Brand', 'Brand', 'Condition', 'Brand', 'Brand', 'Condition', 'Brand', 'Brand', 'Brand', 'Brand', 'Brand', 'Brand', 'Brand', 'Condition', 'Brand', 'Brand', 'Brand', 'Brand', 'Brand', 'Condition', 'Brand', 'Brand', 'Brand', 'Brand', 'Brand', 'Brand', 'Condition', 'Condition', 'Condition', 'Brand', 'Brand', 'Brand', 'Brand', 'Brand', 'Brand', 'Condition', 'Condition', 'Brand', 'Condition', 'Brand', 'Brand', 'Condition', 'Brand', 'Brand', 'Condition', 'Brand', 'Condition', 'Brand', 'Brand', 'Brand', 'Brand', 'Brand', 'Brand', 'Brand', 'Condition', 'Brand', 'Condition', 'Condition', 'Brand', 'Condition', 'Brand', 'Brand', 'Brand', 'Brand', 'Brand', 'Brand', 'Brand', 'Brand', 'Condition', 'Brand', 'Brand', 'Brand', 'Condition', 'Brand', 'Condition', 'Condition', 'Condition', 'Brand', 'Brand', 'Brand', 'Brand', 'Brand', 'Brand', 'Condition', 'Brand', 'Brand', 'Brand', 'Brand', 'Brand', 'Brand', 'Brand', 'Brand', 'Brand', 'Brand', 'Brand', 'Condition', 'Brand', 'Brand', 'Condition', 'Condition', 'Brand', 'Brand', 'Brand', 'Condition', 'Brand', 'Brand', 'Brand', 'Brand', 'Condition', 'Brand', 'Condition', 'Condition', 'Brand', 'Condition']\n"
          ]
        }
      ]
    },
    {
      "cell_type": "code",
      "source": [
        "# Accuracy of the KNN Classifier\n",
        "accuracy_score_knn = accuracy_score(prediction_knn , y_test)\n",
        "accuracy_score_knn"
      ],
      "metadata": {
        "colab": {
          "base_uri": "https://localhost:8080/"
        },
        "id": "Z4uX-nFN7JNy",
        "outputId": "e5f29a04-5eeb-4dfb-854a-0548005e2de3"
      },
      "execution_count": 87,
      "outputs": [
        {
          "output_type": "execute_result",
          "data": {
            "text/plain": [
              "0.32432432432432434"
            ]
          },
          "metadata": {},
          "execution_count": 87
        }
      ]
    },
    {
      "cell_type": "code",
      "source": [
        "# Confusion Matrix of KNN Classifier \n",
        "confusion_knn = confusion_matrix(y_test , prediction_knn)\n",
        "\n",
        "# Display Confusion Matrix by using Heatmap\n",
        "sns.heatmap(confusion_knn , cmap = 'crest' , annot = True)\n",
        "plt.title('Confusion Matrix KNN Classifier ' , fontsize = 12)\n",
        "plt.show()"
      ],
      "metadata": {
        "colab": {
          "base_uri": "https://localhost:8080/",
          "height": 281
        },
        "id": "83GFSgXU7mwj",
        "outputId": "703a6cad-6217-45df-b6be-19022a0a48e7"
      },
      "execution_count": 88,
      "outputs": [
        {
          "output_type": "display_data",
          "data": {
            "text/plain": [
              "<Figure size 432x288 with 2 Axes>"
            ],
            "image/png": "[encoded data removed]"
          },
          "metadata": {
            "needs_background": "light"
          }
        }
      ]
    },
    {
      "cell_type": "code",
      "source": [
        "# Classification Report of KNN Classifier \n",
        "report_knn = classification_report(y_test , prediction_knn)\n",
        "print(report_knn)"
      ],
      "metadata": {
        "colab": {
          "base_uri": "https://localhost:8080/"
        },
        "id": "F3gtX6Yp72B-",
        "outputId": "9a0bfd56-7f34-4145-81bc-550bab98ac1c"
      },
      "execution_count": 89,
      "outputs": [
        {
          "output_type": "stream",
          "name": "stdout",
          "text": [
            "              precision    recall  f1-score   support\n",
            "\n",
            "           0       0.16      0.67      0.26       860\n",
            "           1       0.79      0.28      0.41      3710\n",
            "           2       0.00      0.00      0.00       425\n",
            "\n",
            "    accuracy                           0.32      4995\n",
            "   macro avg       0.32      0.32      0.22      4995\n",
            "weighted avg       0.61      0.32      0.35      4995\n",
            "\n"
          ]
        },
        {
          "output_type": "stream",
          "name": "stderr",
          "text": [
            "/usr/local/lib/python3.7/dist-packages/sklearn/metrics/_classification.py:1318: UndefinedMetricWarning: Precision and F-score are ill-defined and being set to 0.0 in labels with no predicted samples. Use `zero_division` parameter to control this behavior.\n",
            "  _warn_prf(average, modifier, msg_start, len(result))\n",
            "/usr/local/lib/python3.7/dist-packages/sklearn/metrics/_classification.py:1318: UndefinedMetricWarning: Precision and F-score are ill-defined and being set to 0.0 in labels with no predicted samples. Use `zero_division` parameter to control this behavior.\n",
            "  _warn_prf(average, modifier, msg_start, len(result))\n",
            "/usr/local/lib/python3.7/dist-packages/sklearn/metrics/_classification.py:1318: UndefinedMetricWarning: Precision and F-score are ill-defined and being set to 0.0 in labels with no predicted samples. Use `zero_division` parameter to control this behavior.\n",
            "  _warn_prf(average, modifier, msg_start, len(result))\n"
          ]
        }
      ]
    },
    {
      "cell_type": "markdown",
      "source": [
        "**Support Vector Machine (SVC)**\n"
      ],
      "metadata": {
        "id": "zIyaPvWb8Ecv"
      }
    },
    {
      "cell_type": "code",
      "source": [
        "from sklearn.svm import SVC\n",
        "\n",
        "svc = SVC(kernel = 'rbf')\n",
        "\n",
        "# Fit the model \n",
        "svc.fit(x_train , y_train)\n",
        "\n",
        "# Predict the Result \n",
        "prediction_svc = svc.predict(x_test)"
      ],
      "metadata": {
        "id": "g_B--8nd7-Ju"
      },
      "execution_count": 90,
      "outputs": []
    },
    {
      "cell_type": "code",
      "source": [
        "# Actual Result of SVC classifier\n",
        "Actual_res_svc = [] \n",
        "\n",
        "for x in prediction_svc:\n",
        "  Actual_res_svc.append(Label[x])\n"
      ],
      "metadata": {
        "id": "Furm71JL8REQ"
      },
      "execution_count": 91,
      "outputs": []
    },
    {
      "cell_type": "code",
      "source": [
        "# Accuracy of the SVC classifier\n",
        "accuracy_score_svc = accuracy_score(prediction_svc , y_test)"
      ],
      "metadata": {
        "id": "2kAUyFKR8mex"
      },
      "execution_count": 92,
      "outputs": []
    },
    {
      "cell_type": "code",
      "source": [
        "# Confusion Matrix of SVC classifier\n",
        "confusion_svc = confusion_matrix(y_test , prediction_svc)\n",
        "\n",
        "# Display Confusion Matrix by using Heatmap\n",
        "sns.heatmap(confusion_svc , cmap = 'crest' , annot = True)\n",
        "plt.title('Confusion Matrix SVC classifier ' , fontsize = 12)\n",
        "plt.show()"
      ],
      "metadata": {
        "colab": {
          "base_uri": "https://localhost:8080/",
          "height": 281
        },
        "id": "w5ebFanx8pIh",
        "outputId": "f000d501-4546-4c09-8383-2d25140279f3"
      },
      "execution_count": 93,
      "outputs": [
        {
          "output_type": "display_data",
          "data": {
            "text/plain": [
              "<Figure size 432x288 with 2 Axes>"
            ],
            "image/png": "[encoded data removed]"
          },
          "metadata": {
            "needs_background": "light"
          }
        }
      ]
    },
    {
      "cell_type": "code",
      "source": [
        "# Classification Report of SVC classifier\n",
        "report_svc = classification_report(y_test , prediction_svc)\n",
        "print(report_svc)"
      ],
      "metadata": {
        "colab": {
          "base_uri": "https://localhost:8080/"
        },
        "id": "rObrtQCW8sKR",
        "outputId": "a8f570e5-7858-42db-df39-af551a7974c5"
      },
      "execution_count": 94,
      "outputs": [
        {
          "output_type": "stream",
          "name": "stdout",
          "text": [
            "              precision    recall  f1-score   support\n",
            "\n",
            "           0       0.00      0.00      0.00       860\n",
            "           1       0.74      1.00      0.85      3710\n",
            "           2       0.00      0.00      0.00       425\n",
            "\n",
            "    accuracy                           0.74      4995\n",
            "   macro avg       0.25      0.33      0.28      4995\n",
            "weighted avg       0.55      0.74      0.63      4995\n",
            "\n"
          ]
        },
        {
          "output_type": "stream",
          "name": "stderr",
          "text": [
            "/usr/local/lib/python3.7/dist-packages/sklearn/metrics/_classification.py:1318: UndefinedMetricWarning: Precision and F-score are ill-defined and being set to 0.0 in labels with no predicted samples. Use `zero_division` parameter to control this behavior.\n",
            "  _warn_prf(average, modifier, msg_start, len(result))\n",
            "/usr/local/lib/python3.7/dist-packages/sklearn/metrics/_classification.py:1318: UndefinedMetricWarning: Precision and F-score are ill-defined and being set to 0.0 in labels with no predicted samples. Use `zero_division` parameter to control this behavior.\n",
            "  _warn_prf(average, modifier, msg_start, len(result))\n",
            "/usr/local/lib/python3.7/dist-packages/sklearn/metrics/_classification.py:1318: UndefinedMetricWarning: Precision and F-score are ill-defined and being set to 0.0 in labels with no predicted samples. Use `zero_division` parameter to control this behavior.\n",
            "  _warn_prf(average, modifier, msg_start, len(result))\n"
          ]
        }
      ]
    },
    {
      "cell_type": "markdown",
      "source": [
        "**Decision Tree Classifier**\n"
      ],
      "metadata": {
        "id": "bQTYakaS87IZ"
      }
    },
    {
      "cell_type": "code",
      "source": [
        "from sklearn.tree import DecisionTreeClassifier\n",
        "\n",
        "DT = DecisionTreeClassifier()\n",
        "\n",
        "#fit the model \n",
        "DT.fit(x_train, y_train)\n",
        "#predict the results\n",
        "prediction_DT = DT.predict (x_test)"
      ],
      "metadata": {
        "id": "1NNSFPNR8v4T"
      },
      "execution_count": 95,
      "outputs": []
    },
    {
      "cell_type": "code",
      "source": [
        "# Actual Result of DT classifier\n",
        "Actual_res_DT = [] \n",
        "\n",
        "for x in prediction_DT:\n",
        "  Actual_res_DT.append(Label[x])\n"
      ],
      "metadata": {
        "id": "0zBEB-0D9CSS"
      },
      "execution_count": 96,
      "outputs": []
    },
    {
      "cell_type": "code",
      "source": [
        "# Accuracy of the DT classifier\n",
        "accuracy_score_DT = accuracy_score(prediction_DT , y_test)"
      ],
      "metadata": {
        "id": "Y0CpBoT19FJj"
      },
      "execution_count": 97,
      "outputs": []
    },
    {
      "cell_type": "code",
      "source": [
        "print('The Accuracy of the Decision Tree Classifier is : {}'.format(accuracy_score_DT))"
      ],
      "metadata": {
        "colab": {
          "base_uri": "https://localhost:8080/"
        },
        "id": "Xvl1YDsn9IAT",
        "outputId": "aecdd45f-2d66-489c-abe9-0a057d9efe29"
      },
      "execution_count": 98,
      "outputs": [
        {
          "output_type": "stream",
          "name": "stdout",
          "text": [
            "The Accuracy of the Decision Tree Classifier is : 0.7427427427427428\n"
          ]
        }
      ]
    },
    {
      "cell_type": "code",
      "source": [
        "# Confusion Matrix of DT classifier\n",
        "confusion_DT = confusion_matrix(y_test , prediction_DT)\n",
        "\n",
        "# Display Confusion Matrix by using Heatmap\n",
        "sns.heatmap(confusion_DT , cmap = 'crest' , annot = True)\n",
        "plt.title('Confusion Matrix DT classifier ' , fontsize = 12)\n",
        "plt.show()"
      ],
      "metadata": {
        "colab": {
          "base_uri": "https://localhost:8080/",
          "height": 281
        },
        "id": "GPHCCKI39Muj",
        "outputId": "335ddd10-1d08-4f6e-caa8-e2b8bd136583"
      },
      "execution_count": 99,
      "outputs": [
        {
          "output_type": "display_data",
          "data": {
            "text/plain": [
              "<Figure size 432x288 with 2 Axes>"
            ],
            "image/png": "[encoded data removed]"
          },
          "metadata": {
            "needs_background": "light"
          }
        }
      ]
    },
    {
      "cell_type": "code",
      "source": [
        "# Classification Report of DT classifier\n",
        "report_DT = classification_report(y_test , prediction_DT)\n",
        "print(report_DT)"
      ],
      "metadata": {
        "colab": {
          "base_uri": "https://localhost:8080/"
        },
        "id": "DuNLtutl9QOT",
        "outputId": "e113c5c1-d210-49b7-dab6-9f35a5a3716e"
      },
      "execution_count": 100,
      "outputs": [
        {
          "output_type": "stream",
          "name": "stdout",
          "text": [
            "              precision    recall  f1-score   support\n",
            "\n",
            "           0       0.00      0.00      0.00       860\n",
            "           1       0.74      1.00      0.85      3710\n",
            "           2       0.00      0.00      0.00       425\n",
            "\n",
            "    accuracy                           0.74      4995\n",
            "   macro avg       0.25      0.33      0.28      4995\n",
            "weighted avg       0.55      0.74      0.63      4995\n",
            "\n"
          ]
        },
        {
          "output_type": "stream",
          "name": "stderr",
          "text": [
            "/usr/local/lib/python3.7/dist-packages/sklearn/metrics/_classification.py:1318: UndefinedMetricWarning: Precision and F-score are ill-defined and being set to 0.0 in labels with no predicted samples. Use `zero_division` parameter to control this behavior.\n",
            "  _warn_prf(average, modifier, msg_start, len(result))\n",
            "/usr/local/lib/python3.7/dist-packages/sklearn/metrics/_classification.py:1318: UndefinedMetricWarning: Precision and F-score are ill-defined and being set to 0.0 in labels with no predicted samples. Use `zero_division` parameter to control this behavior.\n",
            "  _warn_prf(average, modifier, msg_start, len(result))\n",
            "/usr/local/lib/python3.7/dist-packages/sklearn/metrics/_classification.py:1318: UndefinedMetricWarning: Precision and F-score are ill-defined and being set to 0.0 in labels with no predicted samples. Use `zero_division` parameter to control this behavior.\n",
            "  _warn_prf(average, modifier, msg_start, len(result))\n"
          ]
        }
      ]
    },
    {
      "cell_type": "markdown",
      "source": [
        "**Random Forest Tree**"
      ],
      "metadata": {
        "id": "IFLgShke9aa8"
      }
    },
    {
      "cell_type": "code",
      "source": [
        "from sklearn.ensemble import RandomForestClassifier\n",
        "RF = RandomForestClassifier()\n",
        "\n",
        "# Fit the Model\n",
        "RF.fit(x_train, y_train)\n",
        "\n",
        "#predict the result\n",
        "prediction_RF = RF.predict (x_test)"
      ],
      "metadata": {
        "id": "3cfm7RUY9T6z"
      },
      "execution_count": 101,
      "outputs": []
    },
    {
      "cell_type": "code",
      "source": [
        "# Actual Result of RF classifier\n",
        "Actual_res_RF = [] \n",
        "\n",
        "for x in prediction_RF:\n",
        "  Actual_res_RF.append(Label[x])"
      ],
      "metadata": {
        "id": "sC0kvTWP9fNU"
      },
      "execution_count": 102,
      "outputs": []
    },
    {
      "cell_type": "code",
      "source": [
        "# Accuracy of the RF classifier\n",
        "accuracy_score_RF = accuracy_score(prediction_RF , y_test)"
      ],
      "metadata": {
        "id": "zBE0xRGb9i2z"
      },
      "execution_count": 103,
      "outputs": []
    },
    {
      "cell_type": "code",
      "source": [
        "print('The Accuracy of the Random Forest Classifier is : {}'.format(accuracy_score_RF))"
      ],
      "metadata": {
        "colab": {
          "base_uri": "https://localhost:8080/"
        },
        "id": "Rt0KjYuq9mru",
        "outputId": "621b6f6f-df20-4e1b-a2ef-15d8860d5b3b"
      },
      "execution_count": 109,
      "outputs": [
        {
          "output_type": "stream",
          "name": "stdout",
          "text": [
            "The Accuracy of the Random Forest Classifier is : 0.7427427427427428\n"
          ]
        }
      ]
    },
    {
      "cell_type": "code",
      "source": [
        "# Confusion Matrix of RF classifier\n",
        "confusion_RF = confusion_matrix(y_test , prediction_RF)\n",
        "\n",
        "# Display Confusion Matrix by using Heatmap\n",
        "sns.heatmap(confusion_RF , cmap = 'crest' , annot = True)\n",
        "plt.title('Confusion Matrix RF classifier ' , fontsize = 12)\n",
        "plt.show()"
      ],
      "metadata": {
        "colab": {
          "base_uri": "https://localhost:8080/",
          "height": 281
        },
        "id": "bPleWLUk9pl9",
        "outputId": "d181a5bb-a060-46cb-f03b-c7dd522fe61e"
      },
      "execution_count": 110,
      "outputs": [
        {
          "output_type": "display_data",
          "data": {
            "text/plain": [
              "<Figure size 432x288 with 2 Axes>"
            ],
            "image/png": "[encoded data removed]"
          },
          "metadata": {
            "needs_background": "light"
          }
        }
      ]
    },
    {
      "cell_type": "code",
      "source": [
        "# Classification Report of RF classifier\n",
        "report_RF = classification_report(y_test , prediction_RF)\n",
        "print(report_RF)"
      ],
      "metadata": {
        "colab": {
          "base_uri": "https://localhost:8080/"
        },
        "id": "JULaKrt59tws",
        "outputId": "1648bf86-b028-46dd-82e6-45288ac4e1f2"
      },
      "execution_count": 111,
      "outputs": [
        {
          "output_type": "stream",
          "name": "stdout",
          "text": [
            "              precision    recall  f1-score   support\n",
            "\n",
            "           0       0.00      0.00      0.00       860\n",
            "           1       0.74      1.00      0.85      3710\n",
            "           2       0.00      0.00      0.00       425\n",
            "\n",
            "    accuracy                           0.74      4995\n",
            "   macro avg       0.25      0.33      0.28      4995\n",
            "weighted avg       0.55      0.74      0.63      4995\n",
            "\n"
          ]
        },
        {
          "output_type": "stream",
          "name": "stderr",
          "text": [
            "/usr/local/lib/python3.7/dist-packages/sklearn/metrics/_classification.py:1318: UndefinedMetricWarning: Precision and F-score are ill-defined and being set to 0.0 in labels with no predicted samples. Use `zero_division` parameter to control this behavior.\n",
            "  _warn_prf(average, modifier, msg_start, len(result))\n",
            "/usr/local/lib/python3.7/dist-packages/sklearn/metrics/_classification.py:1318: UndefinedMetricWarning: Precision and F-score are ill-defined and being set to 0.0 in labels with no predicted samples. Use `zero_division` parameter to control this behavior.\n",
            "  _warn_prf(average, modifier, msg_start, len(result))\n",
            "/usr/local/lib/python3.7/dist-packages/sklearn/metrics/_classification.py:1318: UndefinedMetricWarning: Precision and F-score are ill-defined and being set to 0.0 in labels with no predicted samples. Use `zero_division` parameter to control this behavior.\n",
            "  _warn_prf(average, modifier, msg_start, len(result))\n"
          ]
        }
      ]
    },
    {
      "cell_type": "markdown",
      "source": [
        "**Model Evaluation**"
      ],
      "metadata": {
        "id": "aLa2y8jn95DV"
      }
    },
    {
      "cell_type": "code",
      "source": [
        "# Accuracy of the Models\n",
        "Score = [(accuracy_score_lr) , (accuracy_score_knn ) , (accuracy_score_svc ) , (accuracy_score_DT ) , (accuracy_score_RF )]\n",
        "# Models Name\n",
        "Algorithm = ['Logistic Regression' , 'KNN Classifier' , 'Support Vector Classifier' , 'Decision Tree Classifier' , 'Random Forest Classifier']\n",
        "\n",
        "# Display the Accuracy of the Each Model by using bar plot\n",
        "sns.barplot(Score , Algorithm , palette = 'GnBu')\n",
        "plt.title('Models Accuracy' , fontsize = 15)\n",
        "plt.show()"
      ],
      "metadata": {
        "colab": {
          "base_uri": "https://localhost:8080/",
          "height": 338
        },
        "id": "smYGDMSM9yKd",
        "outputId": "271e3411-5728-474c-c325-707cc087ffe4"
      },
      "execution_count": 108,
      "outputs": [
        {
          "output_type": "stream",
          "name": "stderr",
          "text": [
            "/usr/local/lib/python3.7/dist-packages/seaborn/_decorators.py:43: FutureWarning: Pass the following variables as keyword args: x, y. From version 0.12, the only valid positional argument will be `data`, and passing other arguments without an explicit keyword will result in an error or misinterpretation.\n",
            "  FutureWarning\n"
          ]
        },
        {
          "output_type": "display_data",
          "data": {
            "text/plain": [
              "<Figure size 432x288 with 1 Axes>"
            ],
            "image/png": "[encoded data removed]"
          },
          "metadata": {
            "needs_background": "light"
          }
        }
      ]
    }
  ]
}